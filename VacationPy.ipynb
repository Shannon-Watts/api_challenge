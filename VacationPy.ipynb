{
 "cells": [
  {
   "cell_type": "code",
   "execution_count": 56,
   "metadata": {},
   "outputs": [],
   "source": [
    "# Dependencies and Setup\n",
    "import matplotlib.pyplot as plt\n",
    "import pandas as pd\n",
    "import numpy as np\n",
    "import requests\n",
    "import gmaps\n",
    "import os\n",
    "import json\n",
    "\n",
    "# Import API key\n",
    "from api_keys import g_key"
   ]
  },
  {
   "cell_type": "markdown",
   "metadata": {},
   "source": [
    "### Store Part I results into DataFrame\n",
    "* Load the csv exported in Part I to a DataFrame"
   ]
  },
  {
   "cell_type": "code",
   "execution_count": 57,
   "metadata": {},
   "outputs": [
    {
     "data": {
      "text/html": [
       "<div>\n",
       "<style scoped>\n",
       "    .dataframe tbody tr th:only-of-type {\n",
       "        vertical-align: middle;\n",
       "    }\n",
       "\n",
       "    .dataframe tbody tr th {\n",
       "        vertical-align: top;\n",
       "    }\n",
       "\n",
       "    .dataframe thead th {\n",
       "        text-align: right;\n",
       "    }\n",
       "</style>\n",
       "<table border=\"1\" class=\"dataframe\">\n",
       "  <thead>\n",
       "    <tr style=\"text-align: right;\">\n",
       "      <th></th>\n",
       "      <th>Unnamed: 0</th>\n",
       "      <th>City</th>\n",
       "      <th>Lat</th>\n",
       "      <th>Lng</th>\n",
       "      <th>Max Temp</th>\n",
       "      <th>Humidity</th>\n",
       "      <th>Cloudiness</th>\n",
       "      <th>Wind Speed</th>\n",
       "      <th>Country</th>\n",
       "      <th>Date</th>\n",
       "    </tr>\n",
       "  </thead>\n",
       "  <tbody>\n",
       "    <tr>\n",
       "      <th>0</th>\n",
       "      <td>0</td>\n",
       "      <td>barrow</td>\n",
       "      <td>71.2906</td>\n",
       "      <td>-156.7887</td>\n",
       "      <td>-5.78</td>\n",
       "      <td>77</td>\n",
       "      <td>0</td>\n",
       "      <td>11.50</td>\n",
       "      <td>US</td>\n",
       "      <td>1649926096</td>\n",
       "    </tr>\n",
       "    <tr>\n",
       "      <th>1</th>\n",
       "      <td>1</td>\n",
       "      <td>hithadhoo</td>\n",
       "      <td>-0.6000</td>\n",
       "      <td>73.0833</td>\n",
       "      <td>83.73</td>\n",
       "      <td>73</td>\n",
       "      <td>100</td>\n",
       "      <td>10.04</td>\n",
       "      <td>MV</td>\n",
       "      <td>1649926096</td>\n",
       "    </tr>\n",
       "    <tr>\n",
       "      <th>2</th>\n",
       "      <td>2</td>\n",
       "      <td>vao</td>\n",
       "      <td>-22.6667</td>\n",
       "      <td>167.4833</td>\n",
       "      <td>77.50</td>\n",
       "      <td>70</td>\n",
       "      <td>57</td>\n",
       "      <td>11.99</td>\n",
       "      <td>NC</td>\n",
       "      <td>1649926096</td>\n",
       "    </tr>\n",
       "    <tr>\n",
       "      <th>3</th>\n",
       "      <td>3</td>\n",
       "      <td>rikitea</td>\n",
       "      <td>-23.1203</td>\n",
       "      <td>-134.9692</td>\n",
       "      <td>78.13</td>\n",
       "      <td>70</td>\n",
       "      <td>4</td>\n",
       "      <td>17.60</td>\n",
       "      <td>PF</td>\n",
       "      <td>1649926096</td>\n",
       "    </tr>\n",
       "    <tr>\n",
       "      <th>4</th>\n",
       "      <td>4</td>\n",
       "      <td>popondetta</td>\n",
       "      <td>-8.7537</td>\n",
       "      <td>148.2534</td>\n",
       "      <td>76.44</td>\n",
       "      <td>90</td>\n",
       "      <td>96</td>\n",
       "      <td>2.77</td>\n",
       "      <td>PG</td>\n",
       "      <td>1649926096</td>\n",
       "    </tr>\n",
       "  </tbody>\n",
       "</table>\n",
       "</div>"
      ],
      "text/plain": [
       "   Unnamed: 0        City      Lat       Lng  Max Temp  Humidity  Cloudiness  \\\n",
       "0           0      barrow  71.2906 -156.7887     -5.78        77           0   \n",
       "1           1   hithadhoo  -0.6000   73.0833     83.73        73         100   \n",
       "2           2         vao -22.6667  167.4833     77.50        70          57   \n",
       "3           3     rikitea -23.1203 -134.9692     78.13        70           4   \n",
       "4           4  popondetta  -8.7537  148.2534     76.44        90          96   \n",
       "\n",
       "   Wind Speed Country        Date  \n",
       "0       11.50      US  1649926096  \n",
       "1       10.04      MV  1649926096  \n",
       "2       11.99      NC  1649926096  \n",
       "3       17.60      PF  1649926096  \n",
       "4        2.77      PG  1649926096  "
      ]
     },
     "execution_count": 57,
     "metadata": {},
     "output_type": "execute_result"
    }
   ],
   "source": [
    "cities_csv = \"cities1.csv\"\n",
    "cities_df = pd.read_csv(cities_csv)\n",
    "\n",
    "cities_df.head()"
   ]
  },
  {
   "cell_type": "markdown",
   "metadata": {},
   "source": [
    "### Humidity Heatmap\n",
    "* Configure gmaps.\n",
    "* Use the Lat and Lng as locations and Humidity as the weight.\n",
    "* Add Heatmap layer to map."
   ]
  },
  {
   "cell_type": "code",
   "execution_count": 58,
   "metadata": {},
   "outputs": [],
   "source": [
    "gmaps.configure(api_key = g_key)"
   ]
  },
  {
   "cell_type": "code",
   "execution_count": 59,
   "metadata": {},
   "outputs": [
    {
     "name": "stdout",
     "output_type": "stream",
     "text": [
      "<class 'pandas.core.frame.DataFrame'>\n",
      "RangeIndex: 551 entries, 0 to 550\n",
      "Data columns (total 10 columns):\n",
      " #   Column      Non-Null Count  Dtype  \n",
      "---  ------      --------------  -----  \n",
      " 0   Unnamed: 0  551 non-null    int64  \n",
      " 1   City        551 non-null    object \n",
      " 2   Lat         551 non-null    float64\n",
      " 3   Lng         551 non-null    float64\n",
      " 4   Max Temp    551 non-null    float64\n",
      " 5   Humidity    551 non-null    int64  \n",
      " 6   Cloudiness  551 non-null    int64  \n",
      " 7   Wind Speed  551 non-null    float64\n",
      " 8   Country     549 non-null    object \n",
      " 9   Date        551 non-null    int64  \n",
      "dtypes: float64(4), int64(4), object(2)\n",
      "memory usage: 43.2+ KB\n"
     ]
    }
   ],
   "source": [
    "cities_df.info()\n",
    "\n",
    "locations = cities_df[[\"Lat\", \"Lng\"]].astype(float)"
   ]
  },
  {
   "cell_type": "code",
   "execution_count": 102,
   "metadata": {},
   "outputs": [
    {
     "data": {
      "text/plain": [
       "0      77.0\n",
       "1      73.0\n",
       "2      70.0\n",
       "3      70.0\n",
       "4      90.0\n",
       "       ... \n",
       "546    86.0\n",
       "547    64.0\n",
       "548    90.0\n",
       "549    86.0\n",
       "550    73.0\n",
       "Name: Humidity, Length: 551, dtype: float64"
      ]
     },
     "execution_count": 102,
     "metadata": {},
     "output_type": "execute_result"
    }
   ],
   "source": [
    "cities_df[\"Humidity\"].astype(float)"
   ]
  },
  {
   "cell_type": "code",
   "execution_count": 107,
   "metadata": {},
   "outputs": [],
   "source": [
    "# Create humidity heatmap\n",
    "humidity = cities_df[\"Humidity\"]\n",
    "\n",
    "locations = cities_df[[\"Lat\", \"Lng\"]].astype(float)\n",
    "\n",
    "fig = gmaps.figure()\n",
    "\n",
    "heat_layer = gmaps.heatmap_layer(locations, weights=humidity,\n",
    "                                dissipating=False, max_intensity=5,\n",
    "                                point_radius=5)\n",
    "\n",
    "fig.add_layer(heat_layer)"
   ]
  },
  {
   "cell_type": "code",
   "execution_count": 108,
   "metadata": {},
   "outputs": [],
   "source": [
    "%matplotlib inline"
   ]
  },
  {
   "cell_type": "code",
   "execution_count": 109,
   "metadata": {},
   "outputs": [
    {
     "data": {
      "application/vnd.jupyter.widget-view+json": {
       "model_id": "19587e2a51b741a08d1b57d7597f1f59",
       "version_major": 2,
       "version_minor": 0
      },
      "text/plain": [
       "Figure(layout=FigureLayout(height='420px'))"
      ]
     },
     "metadata": {},
     "output_type": "display_data"
    }
   ],
   "source": [
    "fig"
   ]
  },
  {
   "cell_type": "markdown",
   "metadata": {},
   "source": [
    "### Create new DataFrame fitting weather criteria\n",
    "* Narrow down the cities to fit weather conditions.\n",
    "* Drop any rows will null values."
   ]
  },
  {
   "cell_type": "code",
   "execution_count": 110,
   "metadata": {},
   "outputs": [
    {
     "data": {
      "text/html": [
       "<div>\n",
       "<style scoped>\n",
       "    .dataframe tbody tr th:only-of-type {\n",
       "        vertical-align: middle;\n",
       "    }\n",
       "\n",
       "    .dataframe tbody tr th {\n",
       "        vertical-align: top;\n",
       "    }\n",
       "\n",
       "    .dataframe thead th {\n",
       "        text-align: right;\n",
       "    }\n",
       "</style>\n",
       "<table border=\"1\" class=\"dataframe\">\n",
       "  <thead>\n",
       "    <tr style=\"text-align: right;\">\n",
       "      <th></th>\n",
       "      <th>Unnamed: 0</th>\n",
       "      <th>City</th>\n",
       "      <th>Lat</th>\n",
       "      <th>Lng</th>\n",
       "      <th>Max Temp</th>\n",
       "      <th>Humidity</th>\n",
       "      <th>Cloudiness</th>\n",
       "      <th>Wind Speed</th>\n",
       "      <th>Country</th>\n",
       "      <th>Date</th>\n",
       "    </tr>\n",
       "  </thead>\n",
       "  <tbody>\n",
       "    <tr>\n",
       "      <th>0</th>\n",
       "      <td>0</td>\n",
       "      <td>barrow</td>\n",
       "      <td>71.2906</td>\n",
       "      <td>-156.7887</td>\n",
       "      <td>-5.78</td>\n",
       "      <td>77</td>\n",
       "      <td>0</td>\n",
       "      <td>11.50</td>\n",
       "      <td>US</td>\n",
       "      <td>1649926096</td>\n",
       "    </tr>\n",
       "    <tr>\n",
       "      <th>1</th>\n",
       "      <td>1</td>\n",
       "      <td>hithadhoo</td>\n",
       "      <td>-0.6000</td>\n",
       "      <td>73.0833</td>\n",
       "      <td>83.73</td>\n",
       "      <td>73</td>\n",
       "      <td>100</td>\n",
       "      <td>10.04</td>\n",
       "      <td>MV</td>\n",
       "      <td>1649926096</td>\n",
       "    </tr>\n",
       "    <tr>\n",
       "      <th>2</th>\n",
       "      <td>2</td>\n",
       "      <td>vao</td>\n",
       "      <td>-22.6667</td>\n",
       "      <td>167.4833</td>\n",
       "      <td>77.50</td>\n",
       "      <td>70</td>\n",
       "      <td>57</td>\n",
       "      <td>11.99</td>\n",
       "      <td>NC</td>\n",
       "      <td>1649926096</td>\n",
       "    </tr>\n",
       "    <tr>\n",
       "      <th>3</th>\n",
       "      <td>3</td>\n",
       "      <td>rikitea</td>\n",
       "      <td>-23.1203</td>\n",
       "      <td>-134.9692</td>\n",
       "      <td>78.13</td>\n",
       "      <td>70</td>\n",
       "      <td>4</td>\n",
       "      <td>17.60</td>\n",
       "      <td>PF</td>\n",
       "      <td>1649926096</td>\n",
       "    </tr>\n",
       "    <tr>\n",
       "      <th>4</th>\n",
       "      <td>4</td>\n",
       "      <td>popondetta</td>\n",
       "      <td>-8.7537</td>\n",
       "      <td>148.2534</td>\n",
       "      <td>76.44</td>\n",
       "      <td>90</td>\n",
       "      <td>96</td>\n",
       "      <td>2.77</td>\n",
       "      <td>PG</td>\n",
       "      <td>1649926096</td>\n",
       "    </tr>\n",
       "  </tbody>\n",
       "</table>\n",
       "</div>"
      ],
      "text/plain": [
       "   Unnamed: 0        City      Lat       Lng  Max Temp  Humidity  Cloudiness  \\\n",
       "0           0      barrow  71.2906 -156.7887     -5.78        77           0   \n",
       "1           1   hithadhoo  -0.6000   73.0833     83.73        73         100   \n",
       "2           2         vao -22.6667  167.4833     77.50        70          57   \n",
       "3           3     rikitea -23.1203 -134.9692     78.13        70           4   \n",
       "4           4  popondetta  -8.7537  148.2534     76.44        90          96   \n",
       "\n",
       "   Wind Speed Country        Date  \n",
       "0       11.50      US  1649926096  \n",
       "1       10.04      MV  1649926096  \n",
       "2       11.99      NC  1649926096  \n",
       "3       17.60      PF  1649926096  \n",
       "4        2.77      PG  1649926096  "
      ]
     },
     "execution_count": 110,
     "metadata": {},
     "output_type": "execute_result"
    }
   ],
   "source": [
    "cities_df.head()"
   ]
  },
  {
   "cell_type": "code",
   "execution_count": 111,
   "metadata": {},
   "outputs": [
    {
     "data": {
      "text/plain": [
       "pandas.core.series.Series"
      ]
     },
     "execution_count": 111,
     "metadata": {},
     "output_type": "execute_result"
    }
   ],
   "source": [
    "type(cities_df[\"Max Temp\"])"
   ]
  },
  {
   "cell_type": "code",
   "execution_count": 112,
   "metadata": {},
   "outputs": [
    {
     "data": {
      "text/plain": [
       "0      -5.78\n",
       "1      83.73\n",
       "2      77.50\n",
       "3      78.13\n",
       "4      76.44\n",
       "       ...  \n",
       "546    65.75\n",
       "547    93.09\n",
       "548    45.95\n",
       "549    39.02\n",
       "550    17.85\n",
       "Name: Max Temp, Length: 551, dtype: float64"
      ]
     },
     "execution_count": 112,
     "metadata": {},
     "output_type": "execute_result"
    }
   ],
   "source": [
    "(cities_df[\"Max Temp\"]).astype(float)"
   ]
  },
  {
   "cell_type": "code",
   "execution_count": 113,
   "metadata": {},
   "outputs": [
    {
     "data": {
      "text/plain": [
       "0        0\n",
       "1      100\n",
       "2       57\n",
       "3        4\n",
       "4       96\n",
       "      ... \n",
       "546     66\n",
       "547     34\n",
       "548    100\n",
       "549    100\n",
       "550     40\n",
       "Name: Cloudiness, Length: 551, dtype: int32"
      ]
     },
     "execution_count": 113,
     "metadata": {},
     "output_type": "execute_result"
    }
   ],
   "source": [
    "(cities_df[\"Cloudiness\"]).astype(int)"
   ]
  },
  {
   "cell_type": "code",
   "execution_count": 67,
   "metadata": {},
   "outputs": [
    {
     "data": {
      "text/plain": [
       "0      11.50\n",
       "1      10.04\n",
       "2      11.99\n",
       "3      17.60\n",
       "4       2.77\n",
       "       ...  \n",
       "546     6.87\n",
       "547     4.18\n",
       "548     5.37\n",
       "549    13.51\n",
       "550    13.80\n",
       "Name: Wind Speed, Length: 551, dtype: float64"
      ]
     },
     "execution_count": 67,
     "metadata": {},
     "output_type": "execute_result"
    }
   ],
   "source": [
    "(cities_df[\"Wind Speed\"]).astype(float)"
   ]
  },
  {
   "cell_type": "code",
   "execution_count": 114,
   "metadata": {},
   "outputs": [
    {
     "data": {
      "text/html": [
       "<div>\n",
       "<style scoped>\n",
       "    .dataframe tbody tr th:only-of-type {\n",
       "        vertical-align: middle;\n",
       "    }\n",
       "\n",
       "    .dataframe tbody tr th {\n",
       "        vertical-align: top;\n",
       "    }\n",
       "\n",
       "    .dataframe thead th {\n",
       "        text-align: right;\n",
       "    }\n",
       "</style>\n",
       "<table border=\"1\" class=\"dataframe\">\n",
       "  <thead>\n",
       "    <tr style=\"text-align: right;\">\n",
       "      <th></th>\n",
       "      <th>Unnamed: 0</th>\n",
       "      <th>City</th>\n",
       "      <th>Lat</th>\n",
       "      <th>Lng</th>\n",
       "      <th>Max Temp</th>\n",
       "      <th>Humidity</th>\n",
       "      <th>Cloudiness</th>\n",
       "      <th>Wind Speed</th>\n",
       "      <th>Country</th>\n",
       "      <th>Date</th>\n",
       "    </tr>\n",
       "  </thead>\n",
       "  <tbody>\n",
       "    <tr>\n",
       "      <th>48</th>\n",
       "      <td>48</td>\n",
       "      <td>victoria</td>\n",
       "      <td>22.2855</td>\n",
       "      <td>114.1577</td>\n",
       "      <td>88.18</td>\n",
       "      <td>64</td>\n",
       "      <td>1</td>\n",
       "      <td>8.01</td>\n",
       "      <td>HK</td>\n",
       "      <td>1649925962</td>\n",
       "    </tr>\n",
       "    <tr>\n",
       "      <th>129</th>\n",
       "      <td>129</td>\n",
       "      <td>zaranj</td>\n",
       "      <td>30.9667</td>\n",
       "      <td>61.8833</td>\n",
       "      <td>100.36</td>\n",
       "      <td>5</td>\n",
       "      <td>1</td>\n",
       "      <td>1.97</td>\n",
       "      <td>AF</td>\n",
       "      <td>1649926116</td>\n",
       "    </tr>\n",
       "    <tr>\n",
       "      <th>335</th>\n",
       "      <td>335</td>\n",
       "      <td>orzu</td>\n",
       "      <td>37.5593</td>\n",
       "      <td>68.8184</td>\n",
       "      <td>86.40</td>\n",
       "      <td>21</td>\n",
       "      <td>0</td>\n",
       "      <td>3.24</td>\n",
       "      <td>TJ</td>\n",
       "      <td>1649926143</td>\n",
       "    </tr>\n",
       "    <tr>\n",
       "      <th>463</th>\n",
       "      <td>463</td>\n",
       "      <td>isangel</td>\n",
       "      <td>-19.5500</td>\n",
       "      <td>169.2667</td>\n",
       "      <td>80.10</td>\n",
       "      <td>81</td>\n",
       "      <td>5</td>\n",
       "      <td>5.84</td>\n",
       "      <td>VU</td>\n",
       "      <td>1649926163</td>\n",
       "    </tr>\n",
       "  </tbody>\n",
       "</table>\n",
       "</div>"
      ],
      "text/plain": [
       "     Unnamed: 0      City      Lat       Lng  Max Temp  Humidity  Cloudiness  \\\n",
       "48           48  victoria  22.2855  114.1577     88.18        64           1   \n",
       "129         129    zaranj  30.9667   61.8833    100.36         5           1   \n",
       "335         335      orzu  37.5593   68.8184     86.40        21           0   \n",
       "463         463   isangel -19.5500  169.2667     80.10        81           5   \n",
       "\n",
       "     Wind Speed Country        Date  \n",
       "48         8.01      HK  1649925962  \n",
       "129        1.97      AF  1649926116  \n",
       "335        3.24      TJ  1649926143  \n",
       "463        5.84      VU  1649926163  "
      ]
     },
     "execution_count": 114,
     "metadata": {},
     "output_type": "execute_result"
    }
   ],
   "source": [
    "# Ideal weather coniditions \n",
    "cities_df\n",
    "\n",
    "ideal_weather = (cities_df[\"Max Temp\"] >= 80) & (cities_df[\"Cloudiness\"] < 10) & (cities_df[\"Wind Speed\"] < 10)\n",
    "\n",
    "#ideal_weather_df = ideal_weather_df.dropna()\n",
    "ideal_weather_df = cities_df.loc[ideal_weather, :]\n",
    "ideal_weather_df"
   ]
  },
  {
   "cell_type": "markdown",
   "metadata": {},
   "source": [
    "### Hotel Map\n",
    "* Store into variable named `hotel_df`.\n",
    "* Add a \"Hotel Name\" column to the DataFrame.\n",
    "* Set parameters to search for hotels with 5000 meters.\n",
    "* Hit the Google Places API for each city's coordinates.\n",
    "* Store the first Hotel result into the DataFrame.\n",
    "* Plot markers on top of the heatmap."
   ]
  },
  {
   "cell_type": "code",
   "execution_count": 115,
   "metadata": {},
   "outputs": [
    {
     "name": "stdout",
     "output_type": "stream",
     "text": [
      "Retrieving results for index 48: victoria.\n",
      "Closest hotel is Mini Hotel Central.\n",
      "------------\n",
      "Retrieving results for index 129: zaranj.\n"
     ]
    },
    {
     "name": "stderr",
     "output_type": "stream",
     "text": [
      "C:\\Users\\shann\\anaconda3\\envs\\PythonData\\lib\\site-packages\\pandas\\core\\indexing.py:1684: SettingWithCopyWarning: \n",
      "A value is trying to be set on a copy of a slice from a DataFrame.\n",
      "Try using .loc[row_indexer,col_indexer] = value instead\n",
      "\n",
      "See the caveats in the documentation: https://pandas.pydata.org/pandas-docs/stable/user_guide/indexing.html#returning-a-view-versus-a-copy\n",
      "  self.obj[key] = infer_fill_value(value)\n",
      "C:\\Users\\shann\\anaconda3\\envs\\PythonData\\lib\\site-packages\\pandas\\core\\indexing.py:1817: SettingWithCopyWarning: \n",
      "A value is trying to be set on a copy of a slice from a DataFrame.\n",
      "Try using .loc[row_indexer,col_indexer] = value instead\n",
      "\n",
      "See the caveats in the documentation: https://pandas.pydata.org/pandas-docs/stable/user_guide/indexing.html#returning-a-view-versus-a-copy\n",
      "  self._setitem_single_column(loc, value, pi)\n"
     ]
    },
    {
     "name": "stdout",
     "output_type": "stream",
     "text": [
      "Closest hotel is کارگاه بلوک زنی سرهنگ.\n",
      "------------\n",
      "Retrieving results for index 335: orzu.\n",
      "Missing field/result... skipping.\n",
      "------------\n",
      "Retrieving results for index 463: isangel.\n",
      "Closest hotel is Tanna Lodge.\n",
      "------------\n"
     ]
    }
   ],
   "source": [
    "base_url = \"https://maps.googleapis.com/maps/api/place/nearbysearch/json\"\n",
    "\n",
    "# New hotel dataframe to add Hotel Name to\n",
    "hotel_df = ideal_weather_df\n",
    "\n",
    "# Find out hotels in above cities by using API\n",
    "params = {\"radius\": 5000,\n",
    "         \"type\": \"lodging\",\n",
    "         \"key\": g_key}\n",
    "\n",
    "# Loop through hotel_df to find out hotel for each long and lat\n",
    "for index, row in hotel_df.iterrows():\n",
    "    # Get lat and long \n",
    "    lat = row[\"Lat\"]\n",
    "    lng = row[\"Lng\"]\n",
    "    \n",
    "    params[\"location\"] = f\"{lat},{lng}\"\n",
    "    \n",
    "    # Assemble URL and make API request \n",
    "    print(f\"Retrieving results for index {index}: {row['City']}.\")\n",
    "    response = requests.get(base_url, params=params).json()\n",
    "    results = response[\"results\"]\n",
    "    try:\n",
    "        print(f\"Closest hotel is {results[0]['name']}.\")\n",
    "        hotel_df.loc[index, 'Hotel Name'] = results[0]['name']\n",
    "        \n",
    "    except (KeyError, IndexError):\n",
    "        print(\"Missing field/result... skipping.\")\n",
    "        \n",
    "    print(\"------------\")"
   ]
  },
  {
   "cell_type": "code",
   "execution_count": 117,
   "metadata": {},
   "outputs": [
    {
     "data": {
      "text/html": [
       "<div>\n",
       "<style scoped>\n",
       "    .dataframe tbody tr th:only-of-type {\n",
       "        vertical-align: middle;\n",
       "    }\n",
       "\n",
       "    .dataframe tbody tr th {\n",
       "        vertical-align: top;\n",
       "    }\n",
       "\n",
       "    .dataframe thead th {\n",
       "        text-align: right;\n",
       "    }\n",
       "</style>\n",
       "<table border=\"1\" class=\"dataframe\">\n",
       "  <thead>\n",
       "    <tr style=\"text-align: right;\">\n",
       "      <th></th>\n",
       "      <th>Unnamed: 0</th>\n",
       "      <th>City</th>\n",
       "      <th>Lat</th>\n",
       "      <th>Lng</th>\n",
       "      <th>Max Temp</th>\n",
       "      <th>Humidity</th>\n",
       "      <th>Cloudiness</th>\n",
       "      <th>Wind Speed</th>\n",
       "      <th>Country</th>\n",
       "      <th>Date</th>\n",
       "      <th>Hotel Name</th>\n",
       "    </tr>\n",
       "  </thead>\n",
       "  <tbody>\n",
       "    <tr>\n",
       "      <th>48</th>\n",
       "      <td>48</td>\n",
       "      <td>victoria</td>\n",
       "      <td>22.2855</td>\n",
       "      <td>114.1577</td>\n",
       "      <td>88.18</td>\n",
       "      <td>64</td>\n",
       "      <td>1</td>\n",
       "      <td>8.01</td>\n",
       "      <td>HK</td>\n",
       "      <td>1649925962</td>\n",
       "      <td>Mini Hotel Central</td>\n",
       "    </tr>\n",
       "    <tr>\n",
       "      <th>129</th>\n",
       "      <td>129</td>\n",
       "      <td>zaranj</td>\n",
       "      <td>30.9667</td>\n",
       "      <td>61.8833</td>\n",
       "      <td>100.36</td>\n",
       "      <td>5</td>\n",
       "      <td>1</td>\n",
       "      <td>1.97</td>\n",
       "      <td>AF</td>\n",
       "      <td>1649926116</td>\n",
       "      <td>کارگاه بلوک زنی سرهنگ</td>\n",
       "    </tr>\n",
       "    <tr>\n",
       "      <th>335</th>\n",
       "      <td>335</td>\n",
       "      <td>orzu</td>\n",
       "      <td>37.5593</td>\n",
       "      <td>68.8184</td>\n",
       "      <td>86.40</td>\n",
       "      <td>21</td>\n",
       "      <td>0</td>\n",
       "      <td>3.24</td>\n",
       "      <td>TJ</td>\n",
       "      <td>1649926143</td>\n",
       "      <td>NaN</td>\n",
       "    </tr>\n",
       "    <tr>\n",
       "      <th>463</th>\n",
       "      <td>463</td>\n",
       "      <td>isangel</td>\n",
       "      <td>-19.5500</td>\n",
       "      <td>169.2667</td>\n",
       "      <td>80.10</td>\n",
       "      <td>81</td>\n",
       "      <td>5</td>\n",
       "      <td>5.84</td>\n",
       "      <td>VU</td>\n",
       "      <td>1649926163</td>\n",
       "      <td>Tanna Lodge</td>\n",
       "    </tr>\n",
       "  </tbody>\n",
       "</table>\n",
       "</div>"
      ],
      "text/plain": [
       "     Unnamed: 0      City      Lat       Lng  Max Temp  Humidity  Cloudiness  \\\n",
       "48           48  victoria  22.2855  114.1577     88.18        64           1   \n",
       "129         129    zaranj  30.9667   61.8833    100.36         5           1   \n",
       "335         335      orzu  37.5593   68.8184     86.40        21           0   \n",
       "463         463   isangel -19.5500  169.2667     80.10        81           5   \n",
       "\n",
       "     Wind Speed Country        Date             Hotel Name  \n",
       "48         8.01      HK  1649925962     Mini Hotel Central  \n",
       "129        1.97      AF  1649926116  کارگاه بلوک زنی سرهنگ  \n",
       "335        3.24      TJ  1649926143                    NaN  \n",
       "463        5.84      VU  1649926163            Tanna Lodge  "
      ]
     },
     "execution_count": 117,
     "metadata": {},
     "output_type": "execute_result"
    }
   ],
   "source": [
    "# See new hotel df in ideal places\n",
    "\n",
    "hotel_df"
   ]
  },
  {
   "cell_type": "code",
   "execution_count": 87,
   "metadata": {},
   "outputs": [],
   "source": [
    "# NOTE: Do not change any of the code in this cell\n",
    "\n",
    "# Using the template add the hotel marks to the heatmap\n",
    "info_box_template = \"\"\"\n",
    "<dl>\n",
    "<dt>Name</dt><dd>{Hotel Name}</dd>\n",
    "<dt>City</dt><dd>{City}</dd>\n",
    "<dt>Country</dt><dd>{Country}</dd>\n",
    "</dl>\n",
    "\"\"\"\n",
    "# Store the DataFrame Row\n",
    "# NOTE: be sure to update with your DataFrame name\n",
    "hotel_info = [info_box_template.format(**row) for index, row in hotel_df.iterrows()]\n",
    "locations = hotel_df[[\"Lat\", \"Lng\"]]"
   ]
  },
  {
   "cell_type": "code",
   "execution_count": 118,
   "metadata": {},
   "outputs": [
    {
     "data": {
      "application/vnd.jupyter.widget-view+json": {
       "model_id": "19587e2a51b741a08d1b57d7597f1f59",
       "version_major": 2,
       "version_minor": 0
      },
      "text/plain": [
       "Figure(layout=FigureLayout(height='420px'))"
      ]
     },
     "metadata": {},
     "output_type": "display_data"
    }
   ],
   "source": [
    "# Add marker layer ontop of heat map\n",
    "locations = hotel_df[[\"Lat\", \"Lng\"]]\n",
    "markers = gmaps.marker_layer(locations)\n",
    "hotel_layer = gmaps.symbol_layer(locations, info_box_content=hotel_info)\n",
    "\n",
    "fig.add_layer(markers)\n",
    "fig.add_layer(hotel_layer)\n",
    "\n",
    "# Display figure\n",
    "fig"
   ]
  },
  {
   "cell_type": "code",
   "execution_count": null,
   "metadata": {},
   "outputs": [],
   "source": []
  }
 ],
 "metadata": {
  "interpreter": {
   "hash": "c3634e9d8e34a557f1dcff751b42bfea1b29c2048acc411dc9388483d5e527cf"
  },
  "kernelspec": {
   "display_name": "Python [conda env:PythonData] *",
   "language": "python",
   "name": "conda-env-PythonData-py"
  },
  "language_info": {
   "codemirror_mode": {
    "name": "ipython",
    "version": 3
   },
   "file_extension": ".py",
   "mimetype": "text/x-python",
   "name": "python",
   "nbconvert_exporter": "python",
   "pygments_lexer": "ipython3",
   "version": "3.7.11"
  },
  "latex_envs": {
   "LaTeX_envs_menu_present": true,
   "autoclose": false,
   "autocomplete": true,
   "bibliofile": "biblio.bib",
   "cite_by": "apalike",
   "current_citInitial": 1,
   "eqLabelWithNumbers": true,
   "eqNumInitial": 1,
   "hotkeys": {
    "equation": "Ctrl-E",
    "itemize": "Ctrl-I"
   },
   "labels_anchors": false,
   "latex_user_defs": false,
   "report_style_numbering": false,
   "user_envs_cfg": false
  }
 },
 "nbformat": 4,
 "nbformat_minor": 4
}
