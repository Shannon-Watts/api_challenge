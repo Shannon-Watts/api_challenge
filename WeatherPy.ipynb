{
 "cells": [
  {
   "cell_type": "markdown",
   "metadata": {},
   "source": [
    "# WeatherPy"
   ]
  },
  {
   "cell_type": "markdown",
   "metadata": {},
   "source": [
    "Analysis:\n",
    "1. \n",
    "2.\n",
    "3."
   ]
  },
  {
   "cell_type": "code",
   "execution_count": 2,
   "metadata": {
    "scrolled": true
   },
   "outputs": [],
   "source": [
    "# Dependencies and Setup\n",
    "import matplotlib.pyplot as plt\n",
    "import pandas as pd\n",
    "import numpy as np\n",
    "import requests\n",
    "import time\n",
    "from scipy.stats import linregress\n",
    "\n",
    "# Import API key\n",
    "from api_keys import weather_api_key\n",
    "\n",
    "# Incorporated citipy to determine city based on latitude and longitude\n",
    "# citipy has found all the city names based on the random coordinates generated below.\n",
    "#You don't need to find these out - just create a list of cities to loop through to create a dataframe\n",
    "from citipy import citipy\n",
    "\n",
    "# Output File (CSV). This is where I will save my results in a nice Excel format (xport df)\n",
    "output_data_file = \"cities1.csv\"\n",
    "\n",
    "# Range of latitudes and longitudes\n",
    "lat_range = (-90, 90)\n",
    "lng_range = (-180, 180)"
   ]
  },
  {
   "cell_type": "markdown",
   "metadata": {},
   "source": [
    "## Generate Cities List"
   ]
  },
  {
   "cell_type": "code",
   "execution_count": 3,
   "metadata": {},
   "outputs": [
    {
     "data": {
      "text/plain": [
       "599"
      ]
     },
     "execution_count": 3,
     "metadata": {},
     "output_type": "execute_result"
    }
   ],
   "source": [
    "# List for holding lat_lngs and cities\n",
    "lat_lngs = []\n",
    "cities = []\n",
    "\n",
    "# Create a set of random lat and lng combinations\n",
    "# np.random.uniform = Draw samples from a uniform distribution\n",
    "lats = np.random.uniform(lat_range[0], lat_range[1], size=1500)\n",
    "lngs = np.random.uniform(lng_range[0], lng_range[1], size=1500)\n",
    "lat_lngs = zip(lats, lngs)\n",
    "\n",
    "# Identify nearest city for each lat, lng combination\n",
    "# citipy generates this for you - it has been created to find nearest city for lat and long coords. \n",
    "for lat_lng in lat_lngs:\n",
    "    city = citipy.nearest_city(lat_lng[0], lat_lng[1]).city_name\n",
    "    \n",
    "    # If the city is unique, then add it to my cities list\n",
    "    if city not in cities:\n",
    "        cities.append(city)\n",
    "\n",
    "# Print the city count to confirm sufficient count\n",
    "len(cities)\n",
    "#print(cities)\n",
    "# This is a list of cities that I will loop through the API to find out all the weather infomation"
   ]
  },
  {
   "cell_type": "markdown",
   "metadata": {},
   "source": [
    "### Perform API Calls\n",
    "* Perform a weather check on each city using a series of successive API calls.\n",
    "* Include a print log of each city as it'sbeing processed (with the city number and city name).\n"
   ]
  },
  {
   "cell_type": "code",
   "execution_count": 4,
   "metadata": {},
   "outputs": [
    {
     "name": "stdout",
     "output_type": "stream",
     "text": [
      "Processed barrow Count no: 1 Set No: 1\n",
      "Processed hithadhoo Count no: 2 Set No: 1\n",
      "Processed vao Count no: 3 Set No: 1\n",
      "Processed rikitea Count no: 4 Set No: 1\n",
      "Processed popondetta Count no: 5 Set No: 1\n",
      "Processed srednekolymsk Count no: 6 Set No: 1\n",
      "Processed mataura Count no: 7 Set No: 1\n",
      "Processed busselton Count no: 8 Set No: 1\n",
      "Processed tasiilaq Count no: 9 Set No: 1\n",
      "Processed zabolotovka Count no: 10 Set No: 1\n",
      "Processed saskylakh Count no: 11 Set No: 1\n",
      "Processed bayir Count no: 12 Set No: 1\n",
      "Processed samarai Count no: 13 Set No: 1\n",
      "Processed atuona Count no: 14 Set No: 1\n",
      "Processed bluff Count no: 15 Set No: 1\n",
      "Processed khatanga Count no: 16 Set No: 1\n",
      "Processed sorland Count no: 17 Set No: 1\n",
      "Processed vientiane Count no: 18 Set No: 1\n",
      "Processed castro Count no: 19 Set No: 1\n",
      "Processed denpasar Count no: 20 Set No: 1\n",
      "Processed punta arenas Count no: 21 Set No: 1\n",
      "Processed aklavik Count no: 22 Set No: 1\n",
      "Processed gat Count no: 23 Set No: 1\n",
      "Processed codrington Count no: 24 Set No: 1\n",
      "Processed qaanaaq Count no: 25 Set No: 1\n",
      "Processed vaini Count no: 26 Set No: 1\n",
      "Processed sakakah Count no: 27 Set No: 1\n",
      "Processed fairview Count no: 28 Set No: 1\n",
      "Processed ushuaia Count no: 29 Set No: 1\n",
      "Processed yellowknife Count no: 30 Set No: 1\n",
      "Processed taolanaro Count no: 31 Set No: 1\n",
      "City does not exist in list\n",
      "Processed shenjiamen Count no: 32 Set No: 1\n",
      "Processed nizhneyansk Count no: 33 Set No: 1\n",
      "City does not exist in list\n",
      "Processed tiksi Count no: 34 Set No: 1\n",
      "Processed butaritari Count no: 35 Set No: 1\n",
      "Processed san cristobal Count no: 36 Set No: 1\n",
      "Processed masjed-e soleyman Count no: 37 Set No: 1\n",
      "City does not exist in list\n",
      "Processed kindu Count no: 38 Set No: 1\n",
      "Processed kodiak Count no: 39 Set No: 1\n",
      "Processed coquimbo Count no: 40 Set No: 1\n",
      "Processed esperance Count no: 41 Set No: 1\n",
      "Processed mys shmidta Count no: 42 Set No: 1\n",
      "City does not exist in list\n",
      "Processed tuktoyaktuk Count no: 43 Set No: 1\n",
      "Processed rosita Count no: 44 Set No: 1\n",
      "Processed cape town Count no: 45 Set No: 1\n",
      "Processed grand river south east Count no: 46 Set No: 1\n",
      "City does not exist in list\n",
      "Processed kapaa Count no: 47 Set No: 1\n",
      "Processed new norfolk Count no: 48 Set No: 1\n",
      "Processed poum Count no: 49 Set No: 1\n",
      "Processed lasa Count no: 0 Set No: 2\n",
      "Processed lithakia Count no: 1 Set No: 2\n",
      "Processed matara Count no: 2 Set No: 2\n",
      "Processed komsomolskiy Count no: 3 Set No: 2\n",
      "Processed victoria Count no: 4 Set No: 2\n",
      "Processed ugoofaaru Count no: 5 Set No: 2\n",
      "Processed severo-kurilsk Count no: 6 Set No: 2\n",
      "Processed mapiri Count no: 7 Set No: 2\n",
      "Processed faanui Count no: 8 Set No: 2\n",
      "Processed tavda Count no: 9 Set No: 2\n",
      "Processed san patricio Count no: 10 Set No: 2\n",
      "Processed mar del plata Count no: 11 Set No: 2\n",
      "Processed andros town Count no: 12 Set No: 2\n",
      "Processed port elizabeth Count no: 13 Set No: 2\n",
      "Processed zhigansk Count no: 14 Set No: 2\n",
      "Processed garden city Count no: 15 Set No: 2\n",
      "Processed sitka Count no: 16 Set No: 2\n",
      "Processed albany Count no: 17 Set No: 2\n",
      "Processed sabzevar Count no: 18 Set No: 2\n",
      "Processed hilo Count no: 19 Set No: 2\n",
      "Processed tumannyy Count no: 20 Set No: 2\n",
      "City does not exist in list\n",
      "Processed chaiyaphum Count no: 21 Set No: 2\n",
      "Processed nurlat Count no: 22 Set No: 2\n",
      "Processed svetlyy Count no: 23 Set No: 2\n",
      "Processed vangaindrano Count no: 24 Set No: 2\n",
      "Processed arraial do cabo Count no: 25 Set No: 2\n",
      "Processed jamestown Count no: 26 Set No: 2\n",
      "Processed rio grande Count no: 27 Set No: 2\n",
      "Processed ginir Count no: 28 Set No: 2\n",
      "Processed torbay Count no: 29 Set No: 2\n",
      "Processed sentyabrskiy Count no: 30 Set No: 2\n",
      "City does not exist in list\n",
      "Processed gewane Count no: 31 Set No: 2\n",
      "Processed ganganagar Count no: 32 Set No: 2\n",
      "Processed tautira Count no: 33 Set No: 2\n",
      "Processed portland Count no: 34 Set No: 2\n",
      "Processed ternate Count no: 35 Set No: 2\n",
      "Processed oktyabrskiy Count no: 36 Set No: 2\n",
      "Processed srivardhan Count no: 37 Set No: 2\n",
      "Processed belushya guba Count no: 38 Set No: 2\n",
      "City does not exist in list\n",
      "Processed nome Count no: 39 Set No: 2\n",
      "Processed flinders Count no: 40 Set No: 2\n",
      "Processed beringovskiy Count no: 41 Set No: 2\n",
      "Processed hihifo Count no: 42 Set No: 2\n",
      "City does not exist in list\n",
      "Processed alofi Count no: 43 Set No: 2\n",
      "Processed port alfred Count no: 44 Set No: 2\n",
      "Processed cockburn town Count no: 45 Set No: 2\n",
      "Processed jaisinghnagar Count no: 46 Set No: 2\n",
      "Processed thunder bay Count no: 47 Set No: 2\n",
      "Processed gannan Count no: 48 Set No: 2\n",
      "Processed carnarvon Count no: 49 Set No: 2\n",
      "Processed mahebourg Count no: 0 Set No: 3\n",
      "Processed samusu Count no: 1 Set No: 3\n",
      "City does not exist in list\n",
      "Processed karaul Count no: 2 Set No: 3\n",
      "City does not exist in list\n",
      "Processed sao gabriel da cachoeira Count no: 3 Set No: 3\n",
      "Processed umzimvubu Count no: 4 Set No: 3\n",
      "City does not exist in list\n",
      "Processed bathsheba Count no: 5 Set No: 3\n",
      "Processed puerto el triunfo Count no: 6 Set No: 3\n",
      "Processed hermanus Count no: 7 Set No: 3\n",
      "Processed susner Count no: 8 Set No: 3\n",
      "Processed hofn Count no: 9 Set No: 3\n",
      "Processed san policarpo Count no: 10 Set No: 3\n",
      "Processed santiago Count no: 11 Set No: 3\n",
      "Processed airai Count no: 12 Set No: 3\n",
      "Processed bogande Count no: 13 Set No: 3\n",
      "Processed igarka Count no: 14 Set No: 3\n",
      "Processed vardo Count no: 15 Set No: 3\n",
      "Processed jieshi Count no: 16 Set No: 3\n",
      "Processed meulaboh Count no: 17 Set No: 3\n",
      "Processed ribeira grande Count no: 18 Set No: 3\n",
      "Processed luderitz Count no: 19 Set No: 3\n",
      "Processed puerto ayora Count no: 20 Set No: 3\n",
      "Processed bairiki Count no: 21 Set No: 3\n",
      "Processed alpena Count no: 22 Set No: 3\n",
      "Processed kaeo Count no: 23 Set No: 3\n",
      "Processed sinnamary Count no: 24 Set No: 3\n",
      "Processed ponta do sol Count no: 25 Set No: 3\n",
      "Processed novyy urengoy Count no: 26 Set No: 3\n",
      "Processed vaitupu Count no: 27 Set No: 3\n",
      "City does not exist in list\n",
      "Processed mikuni Count no: 28 Set No: 3\n",
      "Processed inhambane Count no: 29 Set No: 3\n",
      "Processed zhangjiakou Count no: 30 Set No: 3\n",
      "Processed taft Count no: 31 Set No: 3\n",
      "Processed illoqqortoormiut Count no: 32 Set No: 3\n",
      "City does not exist in list\n",
      "Processed nikolskoye Count no: 33 Set No: 3\n",
      "Processed harper Count no: 34 Set No: 3\n",
      "Processed college Count no: 35 Set No: 3\n",
      "Processed richards bay Count no: 36 Set No: 3\n",
      "Processed plettenberg bay Count no: 37 Set No: 3\n",
      "Processed suba Count no: 38 Set No: 3\n",
      "Processed anshun Count no: 39 Set No: 3\n",
      "Processed abu dhabi Count no: 40 Set No: 3\n",
      "Processed palauig Count no: 41 Set No: 3\n",
      "Processed porto novo Count no: 42 Set No: 3\n",
      "Processed calama Count no: 43 Set No: 3\n",
      "Processed zaranj Count no: 44 Set No: 3\n",
      "Processed athabasca Count no: 45 Set No: 3\n",
      "Processed pilar Count no: 46 Set No: 3\n",
      "Processed sistranda Count no: 47 Set No: 3\n",
      "Processed port hedland Count no: 48 Set No: 3\n",
      "Processed westport Count no: 49 Set No: 3\n",
      "Processed itarema Count no: 0 Set No: 4\n",
      "Processed hadrut Count no: 1 Set No: 4\n",
      "Processed alice Count no: 2 Set No: 4\n",
      "Processed novovasylivka Count no: 3 Set No: 4\n",
      "Processed georgetown Count no: 4 Set No: 4\n",
      "Processed hobart Count no: 5 Set No: 4\n",
      "Processed bom conselho Count no: 6 Set No: 4\n",
      "Processed thompson Count no: 7 Set No: 4\n",
      "Processed linjiang Count no: 8 Set No: 4\n",
      "Processed chokurdakh Count no: 9 Set No: 4\n",
      "Processed talnakh Count no: 10 Set No: 4\n",
      "Processed bredasdorp Count no: 11 Set No: 4\n",
      "Processed energetik Count no: 12 Set No: 4\n",
      "Processed attawapiskat Count no: 13 Set No: 4\n",
      "City does not exist in list\n",
      "Processed longyearbyen Count no: 14 Set No: 4\n",
      "Processed vila franca do campo Count no: 15 Set No: 4\n",
      "Processed nhulunbuy Count no: 16 Set No: 4\n",
      "Processed kahului Count no: 17 Set No: 4\n",
      "Processed ambon Count no: 18 Set No: 4\n",
      "Processed biak Count no: 19 Set No: 4\n",
      "Processed pokhara Count no: 20 Set No: 4\n",
      "Processed peniche Count no: 21 Set No: 4\n",
      "Processed belgrade Count no: 22 Set No: 4\n",
      "Processed puerto escondido Count no: 23 Set No: 4\n",
      "Processed fortuna Count no: 24 Set No: 4\n",
      "Processed chara Count no: 25 Set No: 4\n",
      "Processed labuhan Count no: 26 Set No: 4\n",
      "Processed nouadhibou Count no: 27 Set No: 4\n",
      "Processed cerrito Count no: 28 Set No: 4\n",
      "Processed avarua Count no: 29 Set No: 4\n",
      "Processed morros Count no: 30 Set No: 4\n",
      "Processed florence Count no: 31 Set No: 4\n",
      "Processed mosquera Count no: 32 Set No: 4\n",
      "Processed acapulco Count no: 33 Set No: 4\n",
      "Processed waipawa Count no: 34 Set No: 4\n"
     ]
    },
    {
     "name": "stdout",
     "output_type": "stream",
     "text": [
      "Processed kaseda Count no: 35 Set No: 4\n",
      "Processed ketchikan Count no: 36 Set No: 4\n",
      "Processed ancud Count no: 37 Set No: 4\n",
      "Processed viedma Count no: 38 Set No: 4\n",
      "Processed saint-pierre Count no: 39 Set No: 4\n",
      "Processed touros Count no: 40 Set No: 4\n",
      "Processed ullal Count no: 41 Set No: 4\n",
      "Processed narsaq Count no: 42 Set No: 4\n",
      "Processed ekibastuz Count no: 43 Set No: 4\n",
      "Processed muros Count no: 44 Set No: 4\n",
      "Processed leningradskiy Count no: 45 Set No: 4\n",
      "Processed qaracala Count no: 46 Set No: 4\n",
      "Processed bedesa Count no: 47 Set No: 4\n",
      "Processed naryan-mar Count no: 48 Set No: 4\n",
      "Processed souillac Count no: 49 Set No: 4\n",
      "Processed kirensk Count no: 0 Set No: 5\n",
      "Processed fairbanks Count no: 1 Set No: 5\n",
      "Processed anuradhapura Count no: 2 Set No: 5\n",
      "Processed chuy Count no: 3 Set No: 5\n",
      "Processed mercedes Count no: 4 Set No: 5\n",
      "Processed rungata Count no: 5 Set No: 5\n",
      "City does not exist in list\n",
      "Processed san vicente Count no: 6 Set No: 5\n",
      "Processed kuching Count no: 7 Set No: 5\n",
      "Processed pisco Count no: 8 Set No: 5\n",
      "Processed kalmar Count no: 9 Set No: 5\n",
      "Processed chitrakonda Count no: 10 Set No: 5\n",
      "Processed bolu Count no: 11 Set No: 5\n",
      "Processed tsaratanana Count no: 12 Set No: 5\n",
      "Processed mogadishu Count no: 13 Set No: 5\n",
      "Processed lethem Count no: 14 Set No: 5\n",
      "Processed iwanai Count no: 15 Set No: 5\n",
      "Processed broken hill Count no: 16 Set No: 5\n",
      "Processed ambikapur Count no: 17 Set No: 5\n",
      "Processed cabo san lucas Count no: 18 Set No: 5\n",
      "Processed tam ky Count no: 19 Set No: 5\n",
      "Processed champerico Count no: 20 Set No: 5\n",
      "Processed malaga Count no: 21 Set No: 5\n",
      "Processed karabulak Count no: 22 Set No: 5\n",
      "Processed hasaki Count no: 23 Set No: 5\n",
      "Processed vostok Count no: 24 Set No: 5\n",
      "Processed mandera Count no: 25 Set No: 5\n",
      "Processed bur gabo Count no: 26 Set No: 5\n",
      "City does not exist in list\n",
      "Processed cidreira Count no: 27 Set No: 5\n",
      "Processed stanghelle Count no: 28 Set No: 5\n",
      "Processed amderma Count no: 29 Set No: 5\n",
      "City does not exist in list\n",
      "Processed ola Count no: 30 Set No: 5\n",
      "Processed umm kaddadah Count no: 31 Set No: 5\n",
      "Processed hohhot Count no: 32 Set No: 5\n",
      "Processed avera Count no: 33 Set No: 5\n",
      "Processed chipinge Count no: 34 Set No: 5\n",
      "Processed iqaluit Count no: 35 Set No: 5\n",
      "Processed pevek Count no: 36 Set No: 5\n",
      "Processed san jose Count no: 37 Set No: 5\n",
      "Processed ilulissat Count no: 38 Set No: 5\n",
      "Processed kashi Count no: 39 Set No: 5\n",
      "Processed knysna Count no: 40 Set No: 5\n",
      "Processed baruun-urt Count no: 41 Set No: 5\n",
      "Processed storforshei Count no: 42 Set No: 5\n",
      "Processed altay Count no: 43 Set No: 5\n",
      "Processed gusau Count no: 44 Set No: 5\n",
      "Processed sayyan Count no: 45 Set No: 5\n",
      "Processed oleggio Count no: 46 Set No: 5\n",
      "Processed fort nelson Count no: 47 Set No: 5\n",
      "Processed lambarene Count no: 48 Set No: 5\n",
      "Processed santa maria Count no: 49 Set No: 5\n",
      "Processed bengkulu Count no: 0 Set No: 6\n",
      "Processed saint-philippe Count no: 1 Set No: 6\n",
      "Processed khani Count no: 2 Set No: 6\n",
      "Processed cabedelo Count no: 3 Set No: 6\n",
      "Processed massa marittima Count no: 4 Set No: 6\n",
      "Processed aloleng Count no: 5 Set No: 6\n",
      "Processed hobyo Count no: 6 Set No: 6\n",
      "Processed anito Count no: 7 Set No: 6\n",
      "Processed klaksvik Count no: 8 Set No: 6\n",
      "Processed natal Count no: 9 Set No: 6\n",
      "Processed saint anthony Count no: 10 Set No: 6\n",
      "Processed saldanha Count no: 11 Set No: 6\n",
      "Processed halalo Count no: 12 Set No: 6\n",
      "City does not exist in list\n",
      "Processed guiren Count no: 13 Set No: 6\n",
      "Processed constitucion Count no: 14 Set No: 6\n",
      "Processed churapcha Count no: 15 Set No: 6\n",
      "Processed kruisfontein Count no: 16 Set No: 6\n",
      "Processed shimoda Count no: 17 Set No: 6\n",
      "Processed pacific grove Count no: 18 Set No: 6\n",
      "Processed hambantota Count no: 19 Set No: 6\n",
      "Processed antofagasta Count no: 20 Set No: 6\n",
      "Processed mnogovershinnyy Count no: 21 Set No: 6\n",
      "Processed orcopampa Count no: 22 Set No: 6\n",
      "Processed ondorhaan Count no: 23 Set No: 6\n",
      "City does not exist in list\n",
      "Processed vestmannaeyjar Count no: 24 Set No: 6\n",
      "Processed neiafu Count no: 25 Set No: 6\n",
      "Processed provideniya Count no: 26 Set No: 6\n",
      "Processed meadville Count no: 27 Set No: 6\n",
      "Processed maumere Count no: 28 Set No: 6\n",
      "Processed san quintin Count no: 29 Set No: 6\n",
      "Processed vetapalem Count no: 30 Set No: 6\n",
      "Processed lazaro cardenas Count no: 31 Set No: 6\n",
      "Processed laguna Count no: 32 Set No: 6\n",
      "Processed spassk Count no: 33 Set No: 6\n",
      "Processed opuwo Count no: 34 Set No: 6\n",
      "Processed phan rang Count no: 35 Set No: 6\n",
      "City does not exist in list\n",
      "Processed chernyshkovskiy Count no: 36 Set No: 6\n",
      "Processed marcona Count no: 37 Set No: 6\n",
      "City does not exist in list\n",
      "Processed vila velha Count no: 38 Set No: 6\n",
      "Processed moshupa Count no: 39 Set No: 6\n",
      "Processed presidencia roque saenz pena Count no: 40 Set No: 6\n",
      "Processed lima Count no: 41 Set No: 6\n",
      "Processed coxim Count no: 42 Set No: 6\n",
      "Processed hnaberd Count no: 43 Set No: 6\n",
      "Processed aswan Count no: 44 Set No: 6\n",
      "Processed erzin Count no: 45 Set No: 6\n",
      "Processed upernavik Count no: 46 Set No: 6\n",
      "Processed sioux lookout Count no: 47 Set No: 6\n",
      "Processed geraldton Count no: 48 Set No: 6\n",
      "Processed ozinki Count no: 49 Set No: 6\n",
      "Processed sola Count no: 0 Set No: 7\n",
      "Processed palana Count no: 1 Set No: 7\n",
      "Processed virginia beach Count no: 2 Set No: 7\n",
      "Processed beloha Count no: 3 Set No: 7\n",
      "Processed tezu Count no: 4 Set No: 7\n",
      "Processed shelburne Count no: 5 Set No: 7\n",
      "Processed axim Count no: 6 Set No: 7\n",
      "Processed marienburg Count no: 7 Set No: 7\n",
      "Processed las lomas Count no: 8 Set No: 7\n",
      "Processed grindavik Count no: 9 Set No: 7\n",
      "Processed abu kamal Count no: 10 Set No: 7\n",
      "Processed quatre cocos Count no: 11 Set No: 7\n",
      "Processed chimoio Count no: 12 Set No: 7\n",
      "Processed necochea Count no: 13 Set No: 7\n",
      "Processed lompoc Count no: 14 Set No: 7\n",
      "Processed lubumbashi Count no: 15 Set No: 7\n",
      "Processed camopi Count no: 16 Set No: 7\n",
      "Processed dikson Count no: 17 Set No: 7\n",
      "Processed mentok Count no: 18 Set No: 7\n",
      "City does not exist in list\n",
      "Processed hualmay Count no: 19 Set No: 7\n",
      "Processed riyadh Count no: 20 Set No: 7\n",
      "Processed bowen Count no: 21 Set No: 7\n",
      "Processed clyde river Count no: 22 Set No: 7\n",
      "Processed okhotsk Count no: 23 Set No: 7\n",
      "Processed nanortalik Count no: 24 Set No: 7\n",
      "Processed vanimo Count no: 25 Set No: 7\n",
      "Processed bambous virieux Count no: 26 Set No: 7\n",
      "Processed niamey Count no: 27 Set No: 7\n",
      "Processed palu Count no: 28 Set No: 7\n",
      "Processed kathmandu Count no: 29 Set No: 7\n",
      "Processed yar-sale Count no: 30 Set No: 7\n",
      "Processed rangapara Count no: 31 Set No: 7\n",
      "Processed noumea Count no: 32 Set No: 7\n",
      "Processed kenai Count no: 33 Set No: 7\n",
      "Processed durango Count no: 34 Set No: 7\n",
      "Processed nishihara Count no: 35 Set No: 7\n",
      "Processed acari Count no: 36 Set No: 7\n",
      "Processed grand-santi Count no: 37 Set No: 7\n",
      "Processed ishcherskaya Count no: 38 Set No: 7\n",
      "Processed boa vista Count no: 39 Set No: 7\n",
      "Processed lebu Count no: 40 Set No: 7\n",
      "Processed leh Count no: 41 Set No: 7\n",
      "Processed guarapari Count no: 42 Set No: 7\n",
      "Processed fare Count no: 43 Set No: 7\n",
      "Processed horodkivka Count no: 44 Set No: 7\n",
      "Processed dayong Count no: 45 Set No: 7\n",
      "Processed buala Count no: 46 Set No: 7\n",
      "Processed magaria Count no: 47 Set No: 7\n",
      "Processed flin flon Count no: 48 Set No: 7\n",
      "Processed santa rosa Count no: 49 Set No: 7\n",
      "Processed turbat Count no: 0 Set No: 8\n",
      "Processed abbeville Count no: 1 Set No: 8\n",
      "Processed uyemskiy Count no: 2 Set No: 8\n",
      "Processed gedo Count no: 3 Set No: 8\n",
      "Processed khonuu Count no: 4 Set No: 8\n",
      "City does not exist in list\n",
      "Processed east london Count no: 5 Set No: 8\n",
      "Processed dalbandin Count no: 6 Set No: 8\n",
      "Processed mitu Count no: 7 Set No: 8\n",
      "Processed katsuura Count no: 8 Set No: 8\n",
      "Processed eyemouth Count no: 9 Set No: 8\n",
      "Processed orzu Count no: 10 Set No: 8\n",
      "Processed margate Count no: 11 Set No: 8\n",
      "Processed saleaula Count no: 12 Set No: 8\n",
      "City does not exist in list\n",
      "Processed tynda Count no: 13 Set No: 8\n",
      "Processed vetluga Count no: 14 Set No: 8\n",
      "Processed tessalit Count no: 15 Set No: 8\n",
      "Processed coahuayana Count no: 16 Set No: 8\n",
      "Processed tagusao Count no: 17 Set No: 8\n",
      "Processed maracanau Count no: 18 Set No: 8\n",
      "Processed inyonga Count no: 19 Set No: 8\n",
      "Processed merauke Count no: 20 Set No: 8\n",
      "Processed nago Count no: 21 Set No: 8\n",
      "Processed homer Count no: 22 Set No: 8\n",
      "Processed port blair Count no: 23 Set No: 8\n",
      "Processed tromso Count no: 24 Set No: 8\n",
      "Processed paragominas Count no: 25 Set No: 8\n"
     ]
    },
    {
     "name": "stdout",
     "output_type": "stream",
     "text": [
      "Processed mecca Count no: 26 Set No: 8\n",
      "Processed senanga Count no: 27 Set No: 8\n",
      "Processed pangody Count no: 28 Set No: 8\n",
      "Processed pathein Count no: 29 Set No: 8\n",
      "Processed cherskiy Count no: 30 Set No: 8\n",
      "Processed norman wells Count no: 31 Set No: 8\n",
      "Processed kavaratti Count no: 32 Set No: 8\n",
      "Processed laukaa Count no: 33 Set No: 8\n",
      "Processed lubao Count no: 34 Set No: 8\n",
      "Processed inderborskiy Count no: 35 Set No: 8\n",
      "City does not exist in list\n",
      "Processed broome Count no: 36 Set No: 8\n",
      "Processed puri Count no: 37 Set No: 8\n",
      "Processed bargal Count no: 38 Set No: 8\n",
      "City does not exist in list\n",
      "Processed neutraubling Count no: 39 Set No: 8\n",
      "Processed maceio Count no: 40 Set No: 8\n",
      "Processed panguna Count no: 41 Set No: 8\n",
      "Processed xacmaz Count no: 42 Set No: 8\n",
      "Processed matay Count no: 43 Set No: 8\n",
      "Processed dalby Count no: 44 Set No: 8\n",
      "Processed stoyba Count no: 45 Set No: 8\n",
      "City does not exist in list\n",
      "Processed falealupo Count no: 46 Set No: 8\n",
      "City does not exist in list\n",
      "Processed batagay-alyta Count no: 47 Set No: 8\n",
      "Processed batemans bay Count no: 48 Set No: 8\n",
      "Processed skowhegan Count no: 49 Set No: 8\n",
      "Processed karatau Count no: 0 Set No: 9\n",
      "Processed bambanglipuro Count no: 1 Set No: 9\n",
      "Processed iskateley Count no: 2 Set No: 9\n",
      "Processed taoudenni Count no: 3 Set No: 9\n",
      "Processed mandalgovi Count no: 4 Set No: 9\n",
      "Processed jumla Count no: 5 Set No: 9\n",
      "Processed fort atkinson Count no: 6 Set No: 9\n",
      "Processed yulara Count no: 7 Set No: 9\n",
      "Processed saint george Count no: 8 Set No: 9\n",
      "Processed loten Count no: 9 Set No: 9\n",
      "Processed seoul Count no: 10 Set No: 9\n",
      "Processed mount gambier Count no: 11 Set No: 9\n",
      "Processed paradwip Count no: 12 Set No: 9\n",
      "City does not exist in list\n",
      "Processed zalantun Count no: 13 Set No: 9\n",
      "Processed oranjestad Count no: 14 Set No: 9\n",
      "Processed notse Count no: 15 Set No: 9\n",
      "Processed sao joao da barra Count no: 16 Set No: 9\n",
      "Processed sataua Count no: 17 Set No: 9\n",
      "City does not exist in list\n",
      "Processed kenora Count no: 18 Set No: 9\n",
      "Processed palora Count no: 19 Set No: 9\n",
      "Processed santarem Count no: 20 Set No: 9\n",
      "Processed naze Count no: 21 Set No: 9\n",
      "Processed dire dawa Count no: 22 Set No: 9\n",
      "Processed kousseri Count no: 23 Set No: 9\n",
      "Processed phnum penh Count no: 24 Set No: 9\n",
      "City does not exist in list\n",
      "Processed xadani Count no: 25 Set No: 9\n",
      "City does not exist in list\n",
      "Processed burica Count no: 26 Set No: 9\n",
      "City does not exist in list\n",
      "Processed nueva helvecia Count no: 27 Set No: 9\n",
      "Processed sobolevo Count no: 28 Set No: 9\n",
      "Processed borogontsy Count no: 29 Set No: 9\n",
      "Processed sulangan Count no: 30 Set No: 9\n",
      "Processed tigil Count no: 31 Set No: 9\n",
      "Processed carnduff Count no: 32 Set No: 9\n",
      "Processed cam ranh Count no: 33 Set No: 9\n",
      "Processed kaitangata Count no: 34 Set No: 9\n",
      "Processed todos santos Count no: 35 Set No: 9\n",
      "Processed hay river Count no: 36 Set No: 9\n",
      "Processed balad Count no: 37 Set No: 9\n",
      "Processed andevoranto Count no: 38 Set No: 9\n",
      "City does not exist in list\n",
      "Processed sao francisco de paula Count no: 39 Set No: 9\n",
      "Processed la palma Count no: 40 Set No: 9\n",
      "Processed sarangani Count no: 41 Set No: 9\n",
      "Processed loudeac Count no: 42 Set No: 9\n",
      "Processed gostivar Count no: 43 Set No: 9\n",
      "Processed maragogi Count no: 44 Set No: 9\n",
      "Processed boende Count no: 45 Set No: 9\n",
      "Processed shingu Count no: 46 Set No: 9\n",
      "Processed pio ix Count no: 47 Set No: 9\n",
      "Processed barentsburg Count no: 48 Set No: 9\n",
      "City does not exist in list\n",
      "Processed rudnichnyy Count no: 49 Set No: 9\n",
      "Processed horsham Count no: 0 Set No: 10\n",
      "Processed road town Count no: 1 Set No: 10\n",
      "Processed mutsamudu Count no: 2 Set No: 10\n",
      "City does not exist in list\n",
      "Processed campbell river Count no: 3 Set No: 10\n",
      "Processed izumo Count no: 4 Set No: 10\n",
      "Processed manokwari Count no: 5 Set No: 10\n",
      "Processed pula Count no: 6 Set No: 10\n",
      "Processed turukhansk Count no: 7 Set No: 10\n",
      "Processed puerto triunfo Count no: 8 Set No: 10\n",
      "Processed conceicao do araguaia Count no: 9 Set No: 10\n",
      "Processed bilma Count no: 10 Set No: 10\n",
      "Processed mto wa mbu Count no: 11 Set No: 10\n",
      "Processed rudsar Count no: 12 Set No: 10\n",
      "Processed ust-kamchatsk Count no: 13 Set No: 10\n",
      "City does not exist in list\n",
      "Processed plover Count no: 14 Set No: 10\n",
      "Processed helong Count no: 15 Set No: 10\n",
      "Processed urdoma Count no: 16 Set No: 10\n",
      "Processed te anau Count no: 17 Set No: 10\n",
      "Processed belaya gora Count no: 18 Set No: 10\n",
      "Processed quito Count no: 19 Set No: 10\n",
      "Processed northam Count no: 20 Set No: 10\n",
      "Processed honningsvag Count no: 21 Set No: 10\n",
      "Processed tabuk Count no: 22 Set No: 10\n",
      "Processed hamilton Count no: 23 Set No: 10\n",
      "Processed sao luiz gonzaga Count no: 24 Set No: 10\n",
      "Processed asau Count no: 25 Set No: 10\n",
      "Processed svetlogorsk Count no: 26 Set No: 10\n",
      "Processed port augusta Count no: 27 Set No: 10\n",
      "Processed tilichiki Count no: 28 Set No: 10\n",
      "Processed port hardy Count no: 29 Set No: 10\n",
      "Processed caravelas Count no: 30 Set No: 10\n",
      "Processed payo Count no: 31 Set No: 10\n",
      "Processed vieques Count no: 32 Set No: 10\n",
      "Processed yerbogachen Count no: 33 Set No: 10\n",
      "Processed lolua Count no: 34 Set No: 10\n",
      "City does not exist in list\n",
      "Processed port lincoln Count no: 35 Set No: 10\n",
      "Processed sao paulo de olivenca Count no: 36 Set No: 10\n",
      "Processed lahat Count no: 37 Set No: 10\n",
      "Processed bodden town Count no: 38 Set No: 10\n",
      "Processed zhuhai Count no: 39 Set No: 10\n",
      "Processed prince rupert Count no: 40 Set No: 10\n",
      "Processed jurado Count no: 41 Set No: 10\n",
      "Processed sheridan Count no: 42 Set No: 10\n",
      "Processed pochutla Count no: 43 Set No: 10\n",
      "Processed diapaga Count no: 44 Set No: 10\n",
      "Processed ust-kuyga Count no: 45 Set No: 10\n",
      "Processed sitangkai Count no: 46 Set No: 10\n",
      "Processed lagoa Count no: 47 Set No: 10\n",
      "Processed sur Count no: 48 Set No: 10\n",
      "Processed monte alegre Count no: 49 Set No: 10\n",
      "Processed port-gentil Count no: 0 Set No: 11\n",
      "Processed george Count no: 1 Set No: 11\n",
      "Processed staryy nadym Count no: 2 Set No: 11\n",
      "Processed isangel Count no: 3 Set No: 11\n",
      "Processed gerede Count no: 4 Set No: 11\n",
      "Processed ixtapa Count no: 5 Set No: 11\n",
      "Processed gurupa Count no: 6 Set No: 11\n",
      "Processed praia da vitoria Count no: 7 Set No: 11\n",
      "Processed saint-denis Count no: 8 Set No: 11\n",
      "Processed kuldur Count no: 9 Set No: 11\n",
      "Processed abu samrah Count no: 10 Set No: 11\n",
      "Processed kavieng Count no: 11 Set No: 11\n",
      "Processed gandajika Count no: 12 Set No: 11\n",
      "Processed valledupar Count no: 13 Set No: 11\n",
      "Processed adrar Count no: 14 Set No: 11\n",
      "Processed sibu Count no: 15 Set No: 11\n",
      "Processed huangchuan Count no: 16 Set No: 11\n",
      "Processed redmond Count no: 17 Set No: 11\n",
      "Processed lavrentiya Count no: 18 Set No: 11\n",
      "Processed colares Count no: 19 Set No: 11\n",
      "Processed houma Count no: 20 Set No: 11\n",
      "Processed volary Count no: 21 Set No: 11\n",
      "Processed guantanamo Count no: 22 Set No: 11\n",
      "Processed roald Count no: 23 Set No: 11\n",
      "Processed fort saint john Count no: 24 Set No: 11\n",
      "City does not exist in list\n",
      "Processed omboue Count no: 25 Set No: 11\n",
      "Processed leshukonskoye Count no: 26 Set No: 11\n",
      "Processed dubbo Count no: 27 Set No: 11\n",
      "Processed gryazovets Count no: 28 Set No: 11\n",
      "Processed santa vitoria do palmar Count no: 29 Set No: 11\n",
      "Processed aksu Count no: 30 Set No: 11\n",
      "Processed awjilah Count no: 31 Set No: 11\n",
      "Processed juneau Count no: 32 Set No: 11\n",
      "Processed ayios kirikos Count no: 33 Set No: 11\n",
      "City does not exist in list\n",
      "Processed lorengau Count no: 34 Set No: 11\n",
      "Processed mareeba Count no: 35 Set No: 11\n",
      "Processed bognor regis Count no: 36 Set No: 11\n",
      "Processed zaragoza Count no: 37 Set No: 11\n",
      "Processed half moon bay Count no: 38 Set No: 11\n",
      "Processed kungurtug Count no: 39 Set No: 11\n",
      "Processed hervey bay Count no: 40 Set No: 11\n",
      "Processed garissa Count no: 41 Set No: 11\n",
      "Processed bud Count no: 42 Set No: 11\n",
      "Processed mount isa Count no: 43 Set No: 11\n",
      "Processed grand gaube Count no: 44 Set No: 11\n",
      "Processed kurmanayevka Count no: 45 Set No: 11\n",
      "Processed north bend Count no: 46 Set No: 11\n",
      "Processed mizan teferi Count no: 47 Set No: 11\n",
      "Processed palabuhanratu Count no: 48 Set No: 11\n",
      "City does not exist in list\n",
      "Processed patu Count no: 49 Set No: 11\n",
      "Processed bintulu Count no: 0 Set No: 12\n",
      "Processed oloron-sainte-marie Count no: 1 Set No: 12\n",
      "Processed shahr-e kord Count no: 2 Set No: 12\n",
      "Processed benemerito de las americas Count no: 3 Set No: 12\n",
      "Processed linxia Count no: 4 Set No: 12\n"
     ]
    },
    {
     "name": "stdout",
     "output_type": "stream",
     "text": [
      "Processed konstantinovka Count no: 5 Set No: 12\n",
      "Processed batagay Count no: 6 Set No: 12\n",
      "Processed himora Count no: 7 Set No: 12\n",
      "City does not exist in list\n",
      "Processed borba Count no: 8 Set No: 12\n",
      "Processed samalaeulu Count no: 9 Set No: 12\n",
      "City does not exist in list\n",
      "Processed blue springs Count no: 10 Set No: 12\n",
      "Processed lalomanu Count no: 11 Set No: 12\n",
      "City does not exist in list\n",
      "Processed pitimbu Count no: 12 Set No: 12\n",
      "Processed pacifica Count no: 13 Set No: 12\n",
      "Processed egvekinot Count no: 14 Set No: 12\n",
      "Processed george town Count no: 15 Set No: 12\n",
      "Processed panacan Count no: 16 Set No: 12\n",
      "Processed sao filipe Count no: 17 Set No: 12\n",
      "Processed hvide sande Count no: 18 Set No: 12\n",
      "Processed suez Count no: 19 Set No: 12\n",
      "Processed teya Count no: 20 Set No: 12\n",
      "Processed tocopilla Count no: 21 Set No: 12\n",
      "Processed bonthe Count no: 22 Set No: 12\n",
      "Processed la seyne-sur-mer Count no: 23 Set No: 12\n",
      "Processed marzuq Count no: 24 Set No: 12\n",
      "Processed perama Count no: 25 Set No: 12\n",
      "Processed magnor Count no: 26 Set No: 12\n",
      "Processed kananga Count no: 27 Set No: 12\n",
      "Processed shinpokh Count no: 28 Set No: 12\n",
      "Processed cap malheureux Count no: 29 Set No: 12\n",
      "Processed sterling Count no: 30 Set No: 12\n",
      "Processed santiago del estero Count no: 31 Set No: 12\n",
      "Processed polyarnyy Count no: 32 Set No: 12\n",
      "Processed borger Count no: 33 Set No: 12\n",
      "Processed dingle Count no: 34 Set No: 12\n",
      "Processed bakel Count no: 35 Set No: 12\n",
      "Processed rolim de moura Count no: 36 Set No: 12\n",
      "City does not exist in list\n",
      "Processed kattivakkam Count no: 37 Set No: 12\n",
      "Processed the valley Count no: 38 Set No: 12\n",
      "Processed atka Count no: 39 Set No: 12\n",
      "City does not exist in list\n",
      "Processed wiwili Count no: 40 Set No: 12\n",
      "Processed isagarh Count no: 41 Set No: 12\n",
      "Processed copiapo Count no: 42 Set No: 12\n",
      "Processed lakes entrance Count no: 43 Set No: 12\n",
      "Processed paramonga Count no: 44 Set No: 12\n",
      "Processed don sak Count no: 45 Set No: 12\n",
      "Processed varhaug Count no: 46 Set No: 12\n",
      "Processed husavik Count no: 47 Set No: 12\n",
      "Processed kazalinsk Count no: 48 Set No: 12\n",
      "City does not exist in list\n",
      "Processed la ronge Count no: 49 Set No: 12\n"
     ]
    }
   ],
   "source": [
    "url = f\"http://api.openweathermap.org/data/2.5/weather?units=Imperial&APPID={weather_api_key}\"\n",
    "\n",
    "# Create a list of city data for DF\n",
    "city_data = []\n",
    "\n",
    "# Counters \n",
    "record_count = 1\n",
    "set_count = 1\n",
    "\n",
    "# Loop through all cities, print log and append to city_data\n",
    "for city in cities:\n",
    "    if (record_count >= 50):\n",
    "        set_count += 1\n",
    "        record_count = 0\n",
    "        \n",
    "    query_url = url + \"&q=\" + city\n",
    "    print(\"Processed \" + city + \" Count no: \" + str(record_count) + \" Set No: \" + str(set_count))\n",
    "    record_count += 1\n",
    "        \n",
    "    try:\n",
    "        response = requests.get(query_url).json()\n",
    "        city_lat = response[\"coord\"][\"lat\"]\n",
    "        city_lng = response[\"coord\"][\"lon\"]\n",
    "        city_max_temp = response[\"main\"][\"temp_max\"]\n",
    "        city_humidity = response[\"main\"][\"humidity\"]\n",
    "        city_clouds = response[\"clouds\"][\"all\"]\n",
    "        city_wind = response[\"wind\"][\"speed\"]\n",
    "        city_country = response[\"sys\"][\"country\"]\n",
    "        city_date = response[\"dt\"]\n",
    "        \n",
    "        city_data.append({\"City\": city, \n",
    "                         \"Lat\": city_lat, \n",
    "                         \"Lng\": city_lng, \n",
    "                         \"Max Temp\": city_max_temp,\n",
    "                         \"Humidity\": city_humidity,\n",
    "                         \"Cloudiness\": city_clouds,\n",
    "                         \"Wind Speed\": city_wind,\n",
    "                         \"Country\": city_country,\n",
    "                         \"Date\": city_date})\n",
    "    \n",
    "    except:\n",
    "        print(\"City does not exist in list\")\n",
    "       # record_count = 0\n"
   ]
  },
  {
   "cell_type": "markdown",
   "metadata": {},
   "source": [
    "### Convert Raw Data to DataFrame\n",
    "* Export the city data into a .csv.\n",
    "* Display the DataFrame"
   ]
  },
  {
   "cell_type": "code",
   "execution_count": 5,
   "metadata": {},
   "outputs": [
    {
     "data": {
      "text/html": [
       "<div>\n",
       "<style scoped>\n",
       "    .dataframe tbody tr th:only-of-type {\n",
       "        vertical-align: middle;\n",
       "    }\n",
       "\n",
       "    .dataframe tbody tr th {\n",
       "        vertical-align: top;\n",
       "    }\n",
       "\n",
       "    .dataframe thead th {\n",
       "        text-align: right;\n",
       "    }\n",
       "</style>\n",
       "<table border=\"1\" class=\"dataframe\">\n",
       "  <thead>\n",
       "    <tr style=\"text-align: right;\">\n",
       "      <th></th>\n",
       "      <th>City</th>\n",
       "      <th>Lat</th>\n",
       "      <th>Lng</th>\n",
       "      <th>Max Temp</th>\n",
       "      <th>Humidity</th>\n",
       "      <th>Cloudiness</th>\n",
       "      <th>Wind Speed</th>\n",
       "      <th>Country</th>\n",
       "      <th>Date</th>\n",
       "    </tr>\n",
       "  </thead>\n",
       "  <tbody>\n",
       "    <tr>\n",
       "      <th>0</th>\n",
       "      <td>barrow</td>\n",
       "      <td>71.2906</td>\n",
       "      <td>-156.7887</td>\n",
       "      <td>-5.78</td>\n",
       "      <td>77</td>\n",
       "      <td>0</td>\n",
       "      <td>11.50</td>\n",
       "      <td>US</td>\n",
       "      <td>1649926096</td>\n",
       "    </tr>\n",
       "    <tr>\n",
       "      <th>1</th>\n",
       "      <td>hithadhoo</td>\n",
       "      <td>-0.6000</td>\n",
       "      <td>73.0833</td>\n",
       "      <td>83.73</td>\n",
       "      <td>73</td>\n",
       "      <td>100</td>\n",
       "      <td>10.04</td>\n",
       "      <td>MV</td>\n",
       "      <td>1649926096</td>\n",
       "    </tr>\n",
       "    <tr>\n",
       "      <th>2</th>\n",
       "      <td>vao</td>\n",
       "      <td>-22.6667</td>\n",
       "      <td>167.4833</td>\n",
       "      <td>77.50</td>\n",
       "      <td>70</td>\n",
       "      <td>57</td>\n",
       "      <td>11.99</td>\n",
       "      <td>NC</td>\n",
       "      <td>1649926096</td>\n",
       "    </tr>\n",
       "    <tr>\n",
       "      <th>3</th>\n",
       "      <td>rikitea</td>\n",
       "      <td>-23.1203</td>\n",
       "      <td>-134.9692</td>\n",
       "      <td>78.13</td>\n",
       "      <td>70</td>\n",
       "      <td>4</td>\n",
       "      <td>17.60</td>\n",
       "      <td>PF</td>\n",
       "      <td>1649926096</td>\n",
       "    </tr>\n",
       "    <tr>\n",
       "      <th>4</th>\n",
       "      <td>popondetta</td>\n",
       "      <td>-8.7537</td>\n",
       "      <td>148.2534</td>\n",
       "      <td>76.44</td>\n",
       "      <td>90</td>\n",
       "      <td>96</td>\n",
       "      <td>2.77</td>\n",
       "      <td>PG</td>\n",
       "      <td>1649926096</td>\n",
       "    </tr>\n",
       "  </tbody>\n",
       "</table>\n",
       "</div>"
      ],
      "text/plain": [
       "         City      Lat       Lng  Max Temp  Humidity  Cloudiness  Wind Speed  \\\n",
       "0      barrow  71.2906 -156.7887     -5.78        77           0       11.50   \n",
       "1   hithadhoo  -0.6000   73.0833     83.73        73         100       10.04   \n",
       "2         vao -22.6667  167.4833     77.50        70          57       11.99   \n",
       "3     rikitea -23.1203 -134.9692     78.13        70           4       17.60   \n",
       "4  popondetta  -8.7537  148.2534     76.44        90          96        2.77   \n",
       "\n",
       "  Country        Date  \n",
       "0      US  1649926096  \n",
       "1      MV  1649926096  \n",
       "2      NC  1649926096  \n",
       "3      PF  1649926096  \n",
       "4      PG  1649926096  "
      ]
     },
     "execution_count": 5,
     "metadata": {},
     "output_type": "execute_result"
    }
   ],
   "source": [
    "# Create a df and show header\n",
    "city_data_df = pd.DataFrame(city_data)\n",
    "city_data_df.to_csv(output_data_file)\n",
    "city_data_df.head()"
   ]
  },
  {
   "cell_type": "code",
   "execution_count": 6,
   "metadata": {},
   "outputs": [
    {
     "data": {
      "text/html": [
       "<div>\n",
       "<style scoped>\n",
       "    .dataframe tbody tr th:only-of-type {\n",
       "        vertical-align: middle;\n",
       "    }\n",
       "\n",
       "    .dataframe tbody tr th {\n",
       "        vertical-align: top;\n",
       "    }\n",
       "\n",
       "    .dataframe thead th {\n",
       "        text-align: right;\n",
       "    }\n",
       "</style>\n",
       "<table border=\"1\" class=\"dataframe\">\n",
       "  <thead>\n",
       "    <tr style=\"text-align: right;\">\n",
       "      <th></th>\n",
       "      <th>Lat</th>\n",
       "      <th>Lng</th>\n",
       "      <th>Max Temp</th>\n",
       "      <th>Humidity</th>\n",
       "      <th>Cloudiness</th>\n",
       "      <th>Wind Speed</th>\n",
       "      <th>Date</th>\n",
       "    </tr>\n",
       "  </thead>\n",
       "  <tbody>\n",
       "    <tr>\n",
       "      <th>count</th>\n",
       "      <td>551.000000</td>\n",
       "      <td>551.000000</td>\n",
       "      <td>551.000000</td>\n",
       "      <td>551.000000</td>\n",
       "      <td>551.000000</td>\n",
       "      <td>551.000000</td>\n",
       "      <td>5.510000e+02</td>\n",
       "    </tr>\n",
       "    <tr>\n",
       "      <th>mean</th>\n",
       "      <td>20.120975</td>\n",
       "      <td>18.711884</td>\n",
       "      <td>61.987387</td>\n",
       "      <td>69.656987</td>\n",
       "      <td>55.945554</td>\n",
       "      <td>8.563466</td>\n",
       "      <td>1.649926e+09</td>\n",
       "    </tr>\n",
       "    <tr>\n",
       "      <th>std</th>\n",
       "      <td>32.508001</td>\n",
       "      <td>90.619224</td>\n",
       "      <td>23.545923</td>\n",
       "      <td>24.249467</td>\n",
       "      <td>39.493990</td>\n",
       "      <td>5.957024</td>\n",
       "      <td>6.269790e+01</td>\n",
       "    </tr>\n",
       "    <tr>\n",
       "      <th>min</th>\n",
       "      <td>-54.800000</td>\n",
       "      <td>-179.166700</td>\n",
       "      <td>-18.490000</td>\n",
       "      <td>4.000000</td>\n",
       "      <td>0.000000</td>\n",
       "      <td>0.000000</td>\n",
       "      <td>1.649926e+09</td>\n",
       "    </tr>\n",
       "    <tr>\n",
       "      <th>25%</th>\n",
       "      <td>-5.496950</td>\n",
       "      <td>-60.117800</td>\n",
       "      <td>48.205000</td>\n",
       "      <td>58.000000</td>\n",
       "      <td>17.000000</td>\n",
       "      <td>4.070000</td>\n",
       "      <td>1.649926e+09</td>\n",
       "    </tr>\n",
       "    <tr>\n",
       "      <th>50%</th>\n",
       "      <td>22.276900</td>\n",
       "      <td>25.570100</td>\n",
       "      <td>65.970000</td>\n",
       "      <td>76.000000</td>\n",
       "      <td>60.000000</td>\n",
       "      <td>7.050000</td>\n",
       "      <td>1.649926e+09</td>\n",
       "    </tr>\n",
       "    <tr>\n",
       "      <th>75%</th>\n",
       "      <td>47.249050</td>\n",
       "      <td>100.335400</td>\n",
       "      <td>79.530000</td>\n",
       "      <td>88.000000</td>\n",
       "      <td>99.000000</td>\n",
       "      <td>11.590000</td>\n",
       "      <td>1.649926e+09</td>\n",
       "    </tr>\n",
       "    <tr>\n",
       "      <th>max</th>\n",
       "      <td>78.218600</td>\n",
       "      <td>179.316700</td>\n",
       "      <td>107.710000</td>\n",
       "      <td>100.000000</td>\n",
       "      <td>100.000000</td>\n",
       "      <td>40.290000</td>\n",
       "      <td>1.649926e+09</td>\n",
       "    </tr>\n",
       "  </tbody>\n",
       "</table>\n",
       "</div>"
      ],
      "text/plain": [
       "              Lat         Lng    Max Temp    Humidity  Cloudiness  Wind Speed  \\\n",
       "count  551.000000  551.000000  551.000000  551.000000  551.000000  551.000000   \n",
       "mean    20.120975   18.711884   61.987387   69.656987   55.945554    8.563466   \n",
       "std     32.508001   90.619224   23.545923   24.249467   39.493990    5.957024   \n",
       "min    -54.800000 -179.166700  -18.490000    4.000000    0.000000    0.000000   \n",
       "25%     -5.496950  -60.117800   48.205000   58.000000   17.000000    4.070000   \n",
       "50%     22.276900   25.570100   65.970000   76.000000   60.000000    7.050000   \n",
       "75%     47.249050  100.335400   79.530000   88.000000   99.000000   11.590000   \n",
       "max     78.218600  179.316700  107.710000  100.000000  100.000000   40.290000   \n",
       "\n",
       "               Date  \n",
       "count  5.510000e+02  \n",
       "mean   1.649926e+09  \n",
       "std    6.269790e+01  \n",
       "min    1.649926e+09  \n",
       "25%    1.649926e+09  \n",
       "50%    1.649926e+09  \n",
       "75%    1.649926e+09  \n",
       "max    1.649926e+09  "
      ]
     },
     "execution_count": 6,
     "metadata": {},
     "output_type": "execute_result"
    }
   ],
   "source": [
    "# Show statistical report\n",
    "city_data_df.describe()"
   ]
  },
  {
   "cell_type": "markdown",
   "metadata": {},
   "source": [
    "## Inspect the data and remove the cities where the humidity > 100%.\n",
    "----\n",
    "Skip this step if there are no cities that have humidity > 100%. "
   ]
  },
  {
   "cell_type": "markdown",
   "metadata": {},
   "source": [
    "\n",
    "The above statistical table shows that there are no cities that have a humidty over 100%. The max humidty level is 100.00"
   ]
  },
  {
   "cell_type": "markdown",
   "metadata": {},
   "source": [
    "## Plotting the Data\n",
    "* Use proper labeling of the plots using plot titles (including date of analysis) and axes labels.\n",
    "* Save the plotted figures as .pngs."
   ]
  },
  {
   "cell_type": "markdown",
   "metadata": {},
   "source": [
    "## Latitude vs. Temperature Plot"
   ]
  },
  {
   "cell_type": "code",
   "execution_count": 7,
   "metadata": {},
   "outputs": [
    {
     "data": {
      "image/png": "[encoded data removed]",
      "text/plain": [
       "<Figure size 432x288 with 1 Axes>"
      ]
     },
     "metadata": {
      "needs_background": "light"
     },
     "output_type": "display_data"
    }
   ],
   "source": [
    "x_values = city_data_df[\"Lat\"]\n",
    "y_values = city_data_df[\"Max Temp\"]\n",
    "plt.scatter(x_values, y_values, marker=\"o\")\n",
    "plt.xlabel(\"Latitude\")\n",
    "plt.ylabel(\"Max Temperature\")\n",
    "plt.title(f\"City Latitude VS Max Temp \" + time.strftime(\"%x\"))\n",
    "plt.grid(True)\n",
    "plt.savefig(\"lat_temp\")"
   ]
  },
  {
   "cell_type": "markdown",
   "metadata": {},
   "source": [
    "The 'City Latitude vs Max Temp' scatter plot shows that the northern hempisphere is colder further away from the equator than the southern hempishere. Overall the temperature in the northern hempishere is lower. For warmer temperature you want to go to a city in the southern hemisphere. "
   ]
  },
  {
   "cell_type": "markdown",
   "metadata": {},
   "source": [
    "## Latitude vs. Humidity Plot"
   ]
  },
  {
   "cell_type": "code",
   "execution_count": 8,
   "metadata": {},
   "outputs": [
    {
     "data": {
      "image/png": "[encoded data removed]",
      "text/plain": [
       "<Figure size 432x288 with 1 Axes>"
      ]
     },
     "metadata": {
      "needs_background": "light"
     },
     "output_type": "display_data"
    }
   ],
   "source": [
    "x_values = city_data_df[\"Lat\"]\n",
    "y_values = city_data_df[\"Humidity\"]\n",
    "plt.scatter(x_values, y_values, marker=\"o\")\n",
    "plt.xlabel(\"Latitude\")\n",
    "plt.ylabel(\"Humidity (%)\")\n",
    "plt.title(f\"City Latitude VS Humidity \" + time.strftime(\"%x\"))\n",
    "plt.grid(True)\n",
    "plt.savefig(\"lat_humidity\")"
   ]
  },
  {
   "cell_type": "markdown",
   "metadata": {},
   "source": [
    "The 'City Lat Vs Humidity\" plot shows that there are varying levels of humidity across the world. Although the plot does shows that there tends to be higher humdity in the southern hempishre than the northern. The northern hemisphere tends to have a wider variation of humidity levels. "
   ]
  },
  {
   "cell_type": "markdown",
   "metadata": {},
   "source": [
    "## Latitude vs. Cloudiness Plot"
   ]
  },
  {
   "cell_type": "code",
   "execution_count": 9,
   "metadata": {},
   "outputs": [
    {
     "data": {
      "image/png": "[encoded data removed]",
      "text/plain": [
       "<Figure size 432x288 with 1 Axes>"
      ]
     },
     "metadata": {
      "needs_background": "light"
     },
     "output_type": "display_data"
    }
   ],
   "source": [
    "x_values = city_data_df[\"Lat\"]\n",
    "y_values = city_data_df[\"Cloudiness\"]\n",
    "plt.scatter(x_values, y_values, marker=\"o\")\n",
    "plt.xlabel(\"Latitude\")\n",
    "plt.ylabel(\"Cloudiness (%)\")\n",
    "plt.title(f\"City Latitude VS Cloudiness \" + time.strftime(\"%x\"))\n",
    "plt.grid(True)\n",
    "plt.savefig(\"lat_cloudiness\")"
   ]
  },
  {
   "cell_type": "markdown",
   "metadata": {},
   "source": [
    "The 'City Lat vs Cloudiness' plot shows that the cities along the equator have the highest percentage of clouds. It also shows that the northern hemisphere has the greatest amount of clouds in general even if it's a small percentage. "
   ]
  },
  {
   "cell_type": "markdown",
   "metadata": {},
   "source": [
    "## Latitude vs. Wind Speed Plot"
   ]
  },
  {
   "cell_type": "code",
   "execution_count": 10,
   "metadata": {},
   "outputs": [
    {
     "data": {
      "image/png": "[encoded data removed]",
      "text/plain": [
       "<Figure size 432x288 with 1 Axes>"
      ]
     },
     "metadata": {
      "needs_background": "light"
     },
     "output_type": "display_data"
    }
   ],
   "source": [
    "x_values = city_data_df[\"Lat\"]\n",
    "y_values = city_data_df[\"Wind Speed\"]\n",
    "plt.scatter(x_values, y_values, marker=\"o\")\n",
    "plt.xlabel(\"Latitude\")\n",
    "plt.ylabel(\"Wind Speed (mph)\")\n",
    "plt.title(f\"City Latitude VS Wind Speed \" + time.strftime(\"%x\"))\n",
    "plt.grid(True)\n",
    "plt.savefig(\"lat_wind_speed\")"
   ]
  },
  {
   "cell_type": "markdown",
   "metadata": {},
   "source": [
    "The 'City Lat vs Wind Speed' plot shows that most cities around the world enojoy wind speeds of 20mph or less. The northern hemisphere, however, has greater windspeeds than the southern with a small proportion of cities seeing wind speeds of 20mph to 35 mph. "
   ]
  },
  {
   "cell_type": "markdown",
   "metadata": {},
   "source": [
    "## Linear Regression"
   ]
  },
  {
   "cell_type": "code",
   "execution_count": 11,
   "metadata": {},
   "outputs": [],
   "source": [
    "# Split the dataframe up into Northern and Sothern Hemishpere \n",
    "# Northern Hemisphere (greater than or equal to 0 degrees latitude) \n",
    "# Southern Hemisphere (less than 0 degrees latitude)\n",
    "\n",
    "Northern_Hem = city_data_df.loc[city_data_df[\"Lat\"] >= 0]\n",
    "Southern_Hem = city_data_df.loc[city_data_df[\"Lat\"] < 0]"
   ]
  },
  {
   "cell_type": "markdown",
   "metadata": {},
   "source": [
    "####  Northern Hemisphere - Max Temp vs. Latitude Linear Regression"
   ]
  },
  {
   "cell_type": "code",
   "execution_count": 12,
   "metadata": {},
   "outputs": [
    {
     "name": "stdout",
     "output_type": "stream",
     "text": [
      "y = -1.06x + 98.21\n",
      "The r value is: 0.6993492345117572\n"
     ]
    },
    {
     "data": {
      "text/plain": [
       "Text(0, 0, 'y = -1.06x + 98.21')"
      ]
     },
     "execution_count": 12,
     "metadata": {},
     "output_type": "execute_result"
    },
    {
     "data": {
      "image/png": "[encoded data removed]",
      "text/plain": [
       "<Figure size 432x288 with 1 Axes>"
      ]
     },
     "metadata": {
      "needs_background": "light"
     },
     "output_type": "display_data"
    }
   ],
   "source": [
    "# The plot\n",
    "x_values = Northern_Hem[\"Lat\"]\n",
    "y_values = Northern_Hem[\"Max Temp\"]\n",
    "\n",
    "plt.xlabel(\"Latitude\")\n",
    "plt.ylabel(\"Max Temperature\")\n",
    "plt.title(f\"City Latitude (NH) VS Max Temp \" + time.strftime(\"%x\"))\n",
    "plt.grid(True)\n",
    "plt.savefig(\"lat_temp\")\n",
    "\n",
    "# Linear Regression\n",
    "(slope, intercept, rvalue, pvalue, stderr) = linregress(x_values, y_values)\n",
    "regress_values = x_values * slope + intercept\n",
    "line_eq = \"y = \" + str(round(slope, 2)) + \"x + \" + str(round(intercept, 2))\n",
    "print(line_eq)\n",
    "print(f\"The r value is: {rvalue**2}\")\n",
    "\n",
    "# See plot\n",
    "plt.scatter(x_values, y_values, marker=\"o\", )\n",
    "plt.plot(x_values, regress_values, \"r\")\n",
    "plt.annotate(line_eq, (0,0), color=\"red\")"
   ]
  },
  {
   "cell_type": "markdown",
   "metadata": {},
   "source": [
    "The 'Northern Hemisphere - Max Temp vs. Latitude Linear Regression' plot above shows that in the northern hempishere the higher the latitude the lower the max tempertare. Ultimately, the further away the city is from the equator the lower the temperature. The closer the city is to the equator the higher the max temp. The r value shows that the data plotted has a negative correlation. As the latitude increases the max temo decreases. The r value is not very strong, however."
   ]
  },
  {
   "cell_type": "markdown",
   "metadata": {},
   "source": [
    "####  Southern Hemisphere - Max Temp vs. Latitude Linear Regression"
   ]
  },
  {
   "cell_type": "code",
   "execution_count": 13,
   "metadata": {},
   "outputs": [
    {
     "name": "stdout",
     "output_type": "stream",
     "text": [
      "y = 0.54x + 82.0\n",
      "The r value is: 0.35473303990235167\n"
     ]
    },
    {
     "data": {
      "text/plain": [
       "Text(-20, 50, 'y = 0.54x + 82.0')"
      ]
     },
     "execution_count": 13,
     "metadata": {},
     "output_type": "execute_result"
    },
    {
     "data": {
      "image/png": "[encoded data removed]",
      "text/plain": [
       "<Figure size 432x288 with 1 Axes>"
      ]
     },
     "metadata": {
      "needs_background": "light"
     },
     "output_type": "display_data"
    }
   ],
   "source": [
    "# The plot\n",
    "x_values = Southern_Hem[\"Lat\"]\n",
    "y_values = Southern_Hem[\"Max Temp\"]\n",
    "\n",
    "plt.xlabel(\"Latitude\")\n",
    "plt.ylabel(\"Max Temperature\")\n",
    "plt.title(f\"City Latitude (SH) VS Max Temp \" + time.strftime(\"%x\"))\n",
    "plt.grid(True)\n",
    "plt.savefig(\"lat_temp\")\n",
    "\n",
    "# Linear Regression\n",
    "(slope, intercept, rvalue, pvalue, stderr) = linregress(x_values, y_values)\n",
    "regress_values = x_values * slope + intercept\n",
    "line_eq = \"y = \" + str(round(slope, 2)) + \"x + \" + str(round(intercept, 2))\n",
    "print(line_eq)\n",
    "print(f\"The r value is: {rvalue**2}\")\n",
    "\n",
    "# See plot\n",
    "plt.scatter(x_values, y_values, marker=\"o\", )\n",
    "plt.plot(x_values, regress_values, \"r\")\n",
    "plt.annotate(line_eq, (-20,50), color=\"red\")"
   ]
  },
  {
   "cell_type": "markdown",
   "metadata": {},
   "source": [
    "The 'Southern Hemisphere - Max Temp vs. Latitude Linear Regression' shows a postive correlation between the city latitude and max temperature. As the city nears the equator the max temperature increases.\n"
   ]
  },
  {
   "cell_type": "markdown",
   "metadata": {},
   "source": [
    "####  Northern Hemisphere - Humidity (%) vs. Latitude Linear Regression"
   ]
  },
  {
   "cell_type": "code",
   "execution_count": 15,
   "metadata": {},
   "outputs": [
    {
     "name": "stdout",
     "output_type": "stream",
     "text": [
      "y = 0.36x + 53.46\n",
      "The r value is: 0.07750845662108195\n"
     ]
    },
    {
     "data": {
      "text/plain": [
       "Text(60, 20, 'y = 0.36x + 53.46')"
      ]
     },
     "execution_count": 15,
     "metadata": {},
     "output_type": "execute_result"
    },
    {
     "data": {
      "image/png": "[encoded data removed]",
      "text/plain": [
       "<Figure size 432x288 with 1 Axes>"
      ]
     },
     "metadata": {
      "needs_background": "light"
     },
     "output_type": "display_data"
    }
   ],
   "source": [
    "# The plot\n",
    "x_values = Northern_Hem[\"Lat\"]\n",
    "y_values = Northern_Hem[\"Humidity\"]\n",
    "\n",
    "plt.xlabel(\"Latitude\")\n",
    "plt.ylabel(\"Humidity (%)\")\n",
    "plt.title(f\"City Latitude (NH) Vs. Humidity \" + time.strftime(\"%x\"))\n",
    "plt.grid(True)\n",
    "plt.savefig(\"lat_temp\")\n",
    "\n",
    "# Linear Regression\n",
    "(slope, intercept, rvalue, pvalue, stderr) = linregress(x_values, y_values)\n",
    "regress_values = x_values * slope + intercept\n",
    "line_eq = \"y = \" + str(round(slope, 2)) + \"x + \" + str(round(intercept, 2))\n",
    "print(line_eq)\n",
    "print(f\"The r value is: {rvalue**2}\")\n",
    "\n",
    "# See plot\n",
    "plt.scatter(x_values, y_values, marker=\"o\", )\n",
    "plt.plot(x_values, regress_values, \"r\")\n",
    "plt.annotate(line_eq, (60,20), color=\"red\")"
   ]
  },
  {
   "cell_type": "markdown",
   "metadata": {},
   "source": [
    "The 'Northern Hemisphere - Humidity (%) vs. Latitude Linear Regression' plot shows that is no linear correlation between latitude and humidity in the northen hemisphere. But the plot suggests that for most cities in the northern hemishere humidity exceeds 40%."
   ]
  },
  {
   "cell_type": "markdown",
   "metadata": {},
   "source": [
    "####  Southern Hemisphere - Humidity (%) vs. Latitude Linear Regression"
   ]
  },
  {
   "cell_type": "code",
   "execution_count": 18,
   "metadata": {},
   "outputs": [
    {
     "name": "stdout",
     "output_type": "stream",
     "text": [
      "y = 0.31x + 82.05\n",
      "The r value is: 0.05531084738902261\n"
     ]
    },
    {
     "data": {
      "text/plain": [
       "Text(-50, 20, 'y = 0.31x + 82.05')"
      ]
     },
     "execution_count": 18,
     "metadata": {},
     "output_type": "execute_result"
    },
    {
     "data": {
      "image/png": "[encoded data removed]",
      "text/plain": [
       "<Figure size 432x288 with 1 Axes>"
      ]
     },
     "metadata": {
      "needs_background": "light"
     },
     "output_type": "display_data"
    }
   ],
   "source": [
    "# The plot\n",
    "x_values = Southern_Hem[\"Lat\"]\n",
    "y_values = Southern_Hem[\"Humidity\"]\n",
    "\n",
    "plt.xlabel(\"Latitude\")\n",
    "plt.ylabel(\"Humidity (%)\")\n",
    "plt.title(f\"City Latitude (SH) Vs. Humidity \" + time.strftime(\"%x\"))\n",
    "plt.grid(True)\n",
    "plt.savefig(\"lat_temp\")\n",
    "\n",
    "# Linear Regression\n",
    "(slope, intercept, rvalue, pvalue, stderr) = linregress(x_values, y_values)\n",
    "regress_values = x_values * slope + intercept\n",
    "line_eq = \"y = \" + str(round(slope, 2)) + \"x + \" + str(round(intercept, 2))\n",
    "print(line_eq)\n",
    "print(f\"The r value is: {rvalue**2}\")\n",
    "\n",
    "# See plot\n",
    "plt.scatter(x_values, y_values, marker=\"o\", )\n",
    "plt.plot(x_values, regress_values, \"r\")\n",
    "plt.annotate(line_eq, (-50,20), color=\"red\")"
   ]
  },
  {
   "cell_type": "markdown",
   "metadata": {},
   "source": [
    "The 'Southern Hemisphere - Humidity (%) vs. Latitude Linear Regression' plot shows that there is no linear correlation between latitude and humidity in ther Southern hemisphere. Again, the plot does show that for most cities in the southern hemisphere humidity exceeds 40%."
   ]
  },
  {
   "cell_type": "markdown",
   "metadata": {},
   "source": [
    "####  Northern Hemisphere - Cloudiness (%) vs. Latitude Linear Regression"
   ]
  },
  {
   "cell_type": "code",
   "execution_count": 21,
   "metadata": {},
   "outputs": [
    {
     "name": "stdout",
     "output_type": "stream",
     "text": [
      "y = 0.27x + 47.64\n",
      "The r value is: 0.019852000084781204\n"
     ]
    },
    {
     "data": {
      "text/plain": [
       "Text(55, 30, 'y = 0.27x + 47.64')"
      ]
     },
     "execution_count": 21,
     "metadata": {},
     "output_type": "execute_result"
    },
    {
     "data": {
      "image/png": "[encoded data removed]",
      "text/plain": [
       "<Figure size 432x288 with 1 Axes>"
      ]
     },
     "metadata": {
      "needs_background": "light"
     },
     "output_type": "display_data"
    }
   ],
   "source": [
    "# The plot\n",
    "x_values = Northern_Hem[\"Lat\"]\n",
    "y_values = Northern_Hem[\"Cloudiness\"]\n",
    "\n",
    "plt.xlabel(\"Latitude\")\n",
    "plt.ylabel(\"Cloudiness (%)\")\n",
    "plt.title(f\"City Latitude (NH) Vs. Cloudiness \" + time.strftime(\"%x\"))\n",
    "plt.grid(True)\n",
    "plt.savefig(\"lat_temp\")\n",
    "\n",
    "# Linear Regression\n",
    "(slope, intercept, rvalue, pvalue, stderr) = linregress(x_values, y_values)\n",
    "regress_values = x_values * slope + intercept\n",
    "line_eq = \"y = \" + str(round(slope, 2)) + \"x + \" + str(round(intercept, 2))\n",
    "print(line_eq)\n",
    "print(f\"The r value is: {rvalue**2}\")\n",
    "\n",
    "# See plot\n",
    "plt.scatter(x_values, y_values, marker=\"o\", )\n",
    "plt.plot(x_values, regress_values, \"r\")\n",
    "plt.annotate(line_eq, (55,30), color=\"red\")"
   ]
  },
  {
   "cell_type": "markdown",
   "metadata": {},
   "source": [
    "The 'Northern Hemisphere - Cloudiness (%) vs. Latitude Linear Regression' plot shows that there is no linear correlation between latitude and cloudiness. "
   ]
  },
  {
   "cell_type": "markdown",
   "metadata": {},
   "source": [
    "####  Southern Hemisphere - Cloudiness (%) vs. Latitude Linear Regression"
   ]
  },
  {
   "cell_type": "code",
   "execution_count": 22,
   "metadata": {},
   "outputs": [
    {
     "name": "stdout",
     "output_type": "stream",
     "text": [
      "y = 0.79x + 67.28\n",
      "The r value is: 0.07339414461131358\n"
     ]
    },
    {
     "data": {
      "text/plain": [
       "Text(-50, 20, 'y = 0.79x + 67.28')"
      ]
     },
     "execution_count": 22,
     "metadata": {},
     "output_type": "execute_result"
    },
    {
     "data": {
      "image/png": "[encoded data removed]",
      "text/plain": [
       "<Figure size 432x288 with 1 Axes>"
      ]
     },
     "metadata": {
      "needs_background": "light"
     },
     "output_type": "display_data"
    }
   ],
   "source": [
    "# The plot\n",
    "x_values = Southern_Hem[\"Lat\"]\n",
    "y_values = Southern_Hem[\"Cloudiness\"]\n",
    "\n",
    "plt.xlabel(\"Latitude\")\n",
    "plt.ylabel(\"Cloudiness (%)\")\n",
    "plt.title(f\"City Latitude (SH) Vs. Cloudiness \" + time.strftime(\"%x\"))\n",
    "plt.grid(True)\n",
    "plt.savefig(\"lat_temp\")\n",
    "\n",
    "# Linear Regression\n",
    "(slope, intercept, rvalue, pvalue, stderr) = linregress(x_values, y_values)\n",
    "regress_values = x_values * slope + intercept\n",
    "line_eq = \"y = \" + str(round(slope, 2)) + \"x + \" + str(round(intercept, 2))\n",
    "print(line_eq)\n",
    "print(f\"The r value is: {rvalue**2}\")\n",
    "\n",
    "# See plot\n",
    "plt.scatter(x_values, y_values, marker=\"o\", )\n",
    "plt.plot(x_values, regress_values, \"r\")\n",
    "plt.annotate(line_eq, (-50,20), color=\"red\")"
   ]
  },
  {
   "cell_type": "markdown",
   "metadata": {},
   "source": [
    "The 'Southern Hemisphere - Cloudiness (%) vs. Latitude Linear Regression' plot shows that there is no linear correlation between latitude and cloudiness. But in comparison with the northern hemisphere there tends to be less percentae of clouds overall. It also shows that there are more clouds at varying percentages closer to the equator."
   ]
  },
  {
   "cell_type": "markdown",
   "metadata": {},
   "source": [
    "####  Northern Hemisphere - Wind Speed (mph) vs. Latitude Linear Regression"
   ]
  },
  {
   "cell_type": "code",
   "execution_count": 23,
   "metadata": {},
   "outputs": [
    {
     "name": "stdout",
     "output_type": "stream",
     "text": [
      "y = -0.01x + 9.33\n",
      "The r value is: 0.00041182763872741024\n"
     ]
    },
    {
     "data": {
      "text/plain": [
       "Text(55, 30, 'y = -0.01x + 9.33')"
      ]
     },
     "execution_count": 23,
     "metadata": {},
     "output_type": "execute_result"
    },
    {
     "data": {
      "image/png": "[encoded data removed]",
      "text/plain": [
       "<Figure size 432x288 with 1 Axes>"
      ]
     },
     "metadata": {
      "needs_background": "light"
     },
     "output_type": "display_data"
    }
   ],
   "source": [
    "# The plot\n",
    "x_values = Northern_Hem[\"Lat\"]\n",
    "y_values = Northern_Hem[\"Wind Speed\"]\n",
    "\n",
    "plt.xlabel(\"Latitude\")\n",
    "plt.ylabel(\"Wind Speed (mph)\")\n",
    "plt.title(f\"City Latitude (NH) Vs. Wind Speed \" + time.strftime(\"%x\"))\n",
    "plt.grid(True)\n",
    "plt.savefig(\"lat_temp\")\n",
    "\n",
    "# Linear Regression\n",
    "(slope, intercept, rvalue, pvalue, stderr) = linregress(x_values, y_values)\n",
    "regress_values = x_values * slope + intercept\n",
    "line_eq = \"y = \" + str(round(slope, 2)) + \"x + \" + str(round(intercept, 2))\n",
    "print(line_eq)\n",
    "print(f\"The r value is: {rvalue**2}\")\n",
    "\n",
    "# See plot\n",
    "plt.scatter(x_values, y_values, marker=\"o\", )\n",
    "plt.plot(x_values, regress_values, \"r\")\n",
    "plt.annotate(line_eq, (55,30), color=\"red\")"
   ]
  },
  {
   "cell_type": "markdown",
   "metadata": {},
   "source": [
    "The 'Northern Hemisphere - Wind Speed (mph) vs. Latitude Linear Regression' plot shows no linear correlation, however, it does that most cities in the norterhn hemisphere do not tend to see wind speeds over 20mph. This does not tend to vary based on latitude - it seems quite uniform."
   ]
  },
  {
   "cell_type": "markdown",
   "metadata": {},
   "source": [
    "####  Southern Hemisphere - Wind Speed (mph) vs. Latitude Linear Regression"
   ]
  },
  {
   "cell_type": "code",
   "execution_count": 24,
   "metadata": {},
   "outputs": [
    {
     "name": "stdout",
     "output_type": "stream",
     "text": [
      "y = -0.1x + 5.33\n",
      "The r value is: 0.056531690228586284\n"
     ]
    },
    {
     "data": {
      "text/plain": [
       "Text(-50, 20, 'y = -0.1x + 5.33')"
      ]
     },
     "execution_count": 24,
     "metadata": {},
     "output_type": "execute_result"
    },
    {
     "data": {
      "image/png": "[encoded data removed]",
      "text/plain": [
       "<Figure size 432x288 with 1 Axes>"
      ]
     },
     "metadata": {
      "needs_background": "light"
     },
     "output_type": "display_data"
    }
   ],
   "source": [
    "# The plot\n",
    "x_values = Southern_Hem[\"Lat\"]\n",
    "y_values = Southern_Hem[\"Wind Speed\"]\n",
    "\n",
    "plt.xlabel(\"Latitude\")\n",
    "plt.ylabel(\"Wind Speed (mph)\")\n",
    "plt.title(f\"City Latitude (SH) Vs. Wind Speed \" + time.strftime(\"%x\"))\n",
    "plt.grid(True)\n",
    "plt.savefig(\"lat_temp\")\n",
    "\n",
    "# Linear Regression\n",
    "(slope, intercept, rvalue, pvalue, stderr) = linregress(x_values, y_values)\n",
    "regress_values = x_values * slope + intercept\n",
    "line_eq = \"y = \" + str(round(slope, 2)) + \"x + \" + str(round(intercept, 2))\n",
    "print(line_eq)\n",
    "print(f\"The r value is: {rvalue**2}\")\n",
    "\n",
    "# See plot\n",
    "plt.scatter(x_values, y_values, marker=\"o\", )\n",
    "plt.plot(x_values, regress_values, \"r\")\n",
    "plt.annotate(line_eq, (-50,20), color=\"red\")"
   ]
  },
  {
   "cell_type": "markdown",
   "metadata": {},
   "source": [
    "The 'Southern Hemisphere - Wind Speed (mph) vs. Latitude Linear Regression' plot shows weak linear correlation."
   ]
  }
 ],
 "metadata": {
  "anaconda-cloud": {},
  "kernel_info": {
   "name": "python3"
  },
  "kernelspec": {
   "display_name": "Python [conda env:PythonData] *",
   "language": "python",
   "name": "conda-env-PythonData-py"
  },
  "language_info": {
   "codemirror_mode": {
    "name": "ipython",
    "version": 3
   },
   "file_extension": ".py",
   "mimetype": "text/x-python",
   "name": "python",
   "nbconvert_exporter": "python",
   "pygments_lexer": "ipython3",
   "version": "3.7.11"
  },
  "latex_envs": {
   "LaTeX_envs_menu_present": true,
   "autoclose": false,
   "autocomplete": true,
   "bibliofile": "biblio.bib",
   "cite_by": "apalike",
   "current_citInitial": 1,
   "eqLabelWithNumbers": true,
   "eqNumInitial": 1,
   "hotkeys": {
    "equation": "Ctrl-E",
    "itemize": "Ctrl-I"
   },
   "labels_anchors": false,
   "latex_user_defs": false,
   "report_style_numbering": false,
   "user_envs_cfg": false
  },
  "nteract": {
   "version": "0.12.3"
  }
 },
 "nbformat": 4,
 "nbformat_minor": 2
}
